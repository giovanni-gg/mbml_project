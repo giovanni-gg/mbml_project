{
 "cells": [
  {
   "attachments": {},
   "cell_type": "markdown",
   "metadata": {},
   "source": [
    "## Money Laudering Patterns Data Set"
   ]
  },
  {
   "attachments": {},
   "cell_type": "markdown",
   "metadata": {},
   "source": [
    "### Pre Processing"
   ]
  },
  {
   "cell_type": "code",
   "execution_count": null,
   "metadata": {},
   "outputs": [],
   "source": [
    "# read the file\n",
    "with open(\"data/HI-Small_Patterns.txt\", \"r\") as f:\n",
    "    lines = f.readlines()\n",
    "\n",
    "patterns_data = []\n",
    "current_laundering_id = 0\n",
    "current_pattern_name = \"\"\n",
    "\n",
    "# loop over the lines\n",
    "for line in lines:\n",
    "    line = line.strip()\n",
    "    if not line:\n",
    "        continue\n",
    "    if line.startswith(\"BEGIN LAUNDERING ATTEMPT\"):\n",
    "        current_laundering_id += 1\n",
    "        laundering_type = line.split(\" - \")[1]\n",
    "        current_pattern_name = laundering_type.split(\":\")[0].strip()\n",
    "    elif line.startswith(\"END LAUNDERING ATTEMPT\"):\n",
    "        continue\n",
    "    else:\n",
    "        cols = line.split(\",\")\n",
    "        cols = [col.strip() for col in cols]\n",
    "        cols.append(laundering_type)\n",
    "        cols.append(current_laundering_id)\n",
    "        cols.append(current_pattern_name)\n",
    "        patterns_data.append(cols)\n",
    "\n",
    "# convert to dataframe\n",
    "patterns = pd.DataFrame(patterns_data, columns=['timestamp', 'from_bank', 'from_account', 'to_bank', 'to_account', 'amount_received',\n",
    "                                 'receiving_currency', 'amount_paid', 'payment_currency', 'payment_format', 'is_laundering', 'laundering_type', 'pattern_id', 'pattern_name'])\n",
    "\n",
    "# convert columns to appropriate data types\n",
    "patterns['amount_received'] = patterns['amount_received'].astype(float)\n",
    "patterns['amount_paid'] = patterns['amount_paid'].astype(float)"
   ]
  },
  {
   "cell_type": "code",
   "execution_count": null,
   "metadata": {},
   "outputs": [],
   "source": [
    "#patterns.to_csv(\"data/patterns_dataframe.csv\", index=False)"
   ]
  },
  {
   "cell_type": "code",
   "execution_count": null,
   "metadata": {},
   "outputs": [],
   "source": [
    "patterns = pd.read_csv(\"data/patterns_dataframe.csv\")"
   ]
  },
  {
   "cell_type": "code",
   "execution_count": null,
   "metadata": {},
   "outputs": [
    {
     "data": {
      "text/html": [
       "<div>\n",
       "<style scoped>\n",
       "    .dataframe tbody tr th:only-of-type {\n",
       "        vertical-align: middle;\n",
       "    }\n",
       "\n",
       "    .dataframe tbody tr th {\n",
       "        vertical-align: top;\n",
       "    }\n",
       "\n",
       "    .dataframe thead th {\n",
       "        text-align: right;\n",
       "    }\n",
       "</style>\n",
       "<table border=\"1\" class=\"dataframe\">\n",
       "  <thead>\n",
       "    <tr style=\"text-align: right;\">\n",
       "      <th></th>\n",
       "      <th>timestamp</th>\n",
       "      <th>from_bank</th>\n",
       "      <th>from_account</th>\n",
       "      <th>to_bank</th>\n",
       "      <th>to_account</th>\n",
       "      <th>amount_received</th>\n",
       "      <th>receiving_currency</th>\n",
       "      <th>amount_paid</th>\n",
       "      <th>payment_currency</th>\n",
       "      <th>payment_format</th>\n",
       "      <th>is_laundering</th>\n",
       "      <th>laundering_type</th>\n",
       "      <th>pattern_id</th>\n",
       "      <th>pattern_name</th>\n",
       "    </tr>\n",
       "  </thead>\n",
       "  <tbody>\n",
       "    <tr>\n",
       "      <th>20</th>\n",
       "      <td>2022/09/03 10:20</td>\n",
       "      <td>24856</td>\n",
       "      <td>8090E8EB0</td>\n",
       "      <td>71</td>\n",
       "      <td>804ABCE90</td>\n",
       "      <td>637140.60</td>\n",
       "      <td>Rupee</td>\n",
       "      <td>637140.60</td>\n",
       "      <td>Rupee</td>\n",
       "      <td>ACH</td>\n",
       "      <td>1</td>\n",
       "      <td>CYCLE:  Max 10 hops</td>\n",
       "      <td>2</td>\n",
       "      <td>CYCLE</td>\n",
       "    </tr>\n",
       "    <tr>\n",
       "      <th>21</th>\n",
       "      <td>2022/09/03 12:08</td>\n",
       "      <td>71</td>\n",
       "      <td>804ABCE90</td>\n",
       "      <td>213737</td>\n",
       "      <td>805494C30</td>\n",
       "      <td>621578.18</td>\n",
       "      <td>Rupee</td>\n",
       "      <td>621578.18</td>\n",
       "      <td>Rupee</td>\n",
       "      <td>ACH</td>\n",
       "      <td>1</td>\n",
       "      <td>CYCLE:  Max 10 hops</td>\n",
       "      <td>2</td>\n",
       "      <td>CYCLE</td>\n",
       "    </tr>\n",
       "    <tr>\n",
       "      <th>22</th>\n",
       "      <td>2022/09/03 13:24</td>\n",
       "      <td>213737</td>\n",
       "      <td>805494C30</td>\n",
       "      <td>14290</td>\n",
       "      <td>801B949C0</td>\n",
       "      <td>7222.58</td>\n",
       "      <td>Euro</td>\n",
       "      <td>7222.58</td>\n",
       "      <td>Euro</td>\n",
       "      <td>ACH</td>\n",
       "      <td>1</td>\n",
       "      <td>CYCLE:  Max 10 hops</td>\n",
       "      <td>2</td>\n",
       "      <td>CYCLE</td>\n",
       "    </tr>\n",
       "    <tr>\n",
       "      <th>23</th>\n",
       "      <td>2022/09/04 03:24</td>\n",
       "      <td>14290</td>\n",
       "      <td>801B949C0</td>\n",
       "      <td>10057</td>\n",
       "      <td>803DE1580</td>\n",
       "      <td>892031.21</td>\n",
       "      <td>Yen</td>\n",
       "      <td>892031.21</td>\n",
       "      <td>Yen</td>\n",
       "      <td>ACH</td>\n",
       "      <td>1</td>\n",
       "      <td>CYCLE:  Max 10 hops</td>\n",
       "      <td>2</td>\n",
       "      <td>CYCLE</td>\n",
       "    </tr>\n",
       "    <tr>\n",
       "      <th>24</th>\n",
       "      <td>2022/09/04 09:44</td>\n",
       "      <td>10057</td>\n",
       "      <td>803DE1580</td>\n",
       "      <td>28628</td>\n",
       "      <td>80ACEE280</td>\n",
       "      <td>11364.12</td>\n",
       "      <td>Australian Dollar</td>\n",
       "      <td>11364.12</td>\n",
       "      <td>Australian Dollar</td>\n",
       "      <td>ACH</td>\n",
       "      <td>1</td>\n",
       "      <td>CYCLE:  Max 10 hops</td>\n",
       "      <td>2</td>\n",
       "      <td>CYCLE</td>\n",
       "    </tr>\n",
       "    <tr>\n",
       "      <th>25</th>\n",
       "      <td>2022/09/04 15:51</td>\n",
       "      <td>28628</td>\n",
       "      <td>80ACEE280</td>\n",
       "      <td>1467</td>\n",
       "      <td>8013C4030</td>\n",
       "      <td>7945.55</td>\n",
       "      <td>US Dollar</td>\n",
       "      <td>7945.55</td>\n",
       "      <td>US Dollar</td>\n",
       "      <td>ACH</td>\n",
       "      <td>1</td>\n",
       "      <td>CYCLE:  Max 10 hops</td>\n",
       "      <td>2</td>\n",
       "      <td>CYCLE</td>\n",
       "    </tr>\n",
       "    <tr>\n",
       "      <th>26</th>\n",
       "      <td>2022/09/01 00:04</td>\n",
       "      <td>119</td>\n",
       "      <td>811C597B0</td>\n",
       "      <td>48309</td>\n",
       "      <td>811C599A0</td>\n",
       "      <td>34254.65</td>\n",
       "      <td>Saudi Riyal</td>\n",
       "      <td>34254.65</td>\n",
       "      <td>Saudi Riyal</td>\n",
       "      <td>ACH</td>\n",
       "      <td>1</td>\n",
       "      <td>GATHER-SCATTER:  Max 3-degree Fan-In</td>\n",
       "      <td>3</td>\n",
       "      <td>GATHER-SCATTER</td>\n",
       "    </tr>\n",
       "    <tr>\n",
       "      <th>27</th>\n",
       "      <td>2022/09/01 19:27</td>\n",
       "      <td>150240</td>\n",
       "      <td>812D22980</td>\n",
       "      <td>48309</td>\n",
       "      <td>811C599A0</td>\n",
       "      <td>5971.98</td>\n",
       "      <td>Saudi Riyal</td>\n",
       "      <td>5971.98</td>\n",
       "      <td>Saudi Riyal</td>\n",
       "      <td>ACH</td>\n",
       "      <td>1</td>\n",
       "      <td>GATHER-SCATTER:  Max 3-degree Fan-In</td>\n",
       "      <td>3</td>\n",
       "      <td>GATHER-SCATTER</td>\n",
       "    </tr>\n",
       "    <tr>\n",
       "      <th>28</th>\n",
       "      <td>2022/09/04 05:06</td>\n",
       "      <td>222</td>\n",
       "      <td>811B83280</td>\n",
       "      <td>48309</td>\n",
       "      <td>811C599A0</td>\n",
       "      <td>50445.58</td>\n",
       "      <td>Saudi Riyal</td>\n",
       "      <td>50445.58</td>\n",
       "      <td>Saudi Riyal</td>\n",
       "      <td>ACH</td>\n",
       "      <td>1</td>\n",
       "      <td>GATHER-SCATTER:  Max 3-degree Fan-In</td>\n",
       "      <td>3</td>\n",
       "      <td>GATHER-SCATTER</td>\n",
       "    </tr>\n",
       "    <tr>\n",
       "      <th>29</th>\n",
       "      <td>2022/09/04 05:03</td>\n",
       "      <td>48309</td>\n",
       "      <td>811C599A0</td>\n",
       "      <td>48309</td>\n",
       "      <td>811C599A0</td>\n",
       "      <td>48649.42</td>\n",
       "      <td>Saudi Riyal</td>\n",
       "      <td>48649.42</td>\n",
       "      <td>Saudi Riyal</td>\n",
       "      <td>ACH</td>\n",
       "      <td>1</td>\n",
       "      <td>GATHER-SCATTER:  Max 3-degree Fan-In</td>\n",
       "      <td>3</td>\n",
       "      <td>GATHER-SCATTER</td>\n",
       "    </tr>\n",
       "  </tbody>\n",
       "</table>\n",
       "</div>"
      ],
      "text/plain": [
       "           timestamp  from_bank from_account  to_bank to_account  \\\n",
       "20  2022/09/03 10:20      24856    8090E8EB0       71  804ABCE90   \n",
       "21  2022/09/03 12:08         71    804ABCE90   213737  805494C30   \n",
       "22  2022/09/03 13:24     213737    805494C30    14290  801B949C0   \n",
       "23  2022/09/04 03:24      14290    801B949C0    10057  803DE1580   \n",
       "24  2022/09/04 09:44      10057    803DE1580    28628  80ACEE280   \n",
       "25  2022/09/04 15:51      28628    80ACEE280     1467  8013C4030   \n",
       "26  2022/09/01 00:04        119    811C597B0    48309  811C599A0   \n",
       "27  2022/09/01 19:27     150240    812D22980    48309  811C599A0   \n",
       "28  2022/09/04 05:06        222    811B83280    48309  811C599A0   \n",
       "29  2022/09/04 05:03      48309    811C599A0    48309  811C599A0   \n",
       "\n",
       "    amount_received receiving_currency  amount_paid   payment_currency  \\\n",
       "20        637140.60              Rupee    637140.60              Rupee   \n",
       "21        621578.18              Rupee    621578.18              Rupee   \n",
       "22          7222.58               Euro      7222.58               Euro   \n",
       "23        892031.21                Yen    892031.21                Yen   \n",
       "24         11364.12  Australian Dollar     11364.12  Australian Dollar   \n",
       "25          7945.55          US Dollar      7945.55          US Dollar   \n",
       "26         34254.65        Saudi Riyal     34254.65        Saudi Riyal   \n",
       "27          5971.98        Saudi Riyal      5971.98        Saudi Riyal   \n",
       "28         50445.58        Saudi Riyal     50445.58        Saudi Riyal   \n",
       "29         48649.42        Saudi Riyal     48649.42        Saudi Riyal   \n",
       "\n",
       "   payment_format  is_laundering                       laundering_type  \\\n",
       "20            ACH              1                   CYCLE:  Max 10 hops   \n",
       "21            ACH              1                   CYCLE:  Max 10 hops   \n",
       "22            ACH              1                   CYCLE:  Max 10 hops   \n",
       "23            ACH              1                   CYCLE:  Max 10 hops   \n",
       "24            ACH              1                   CYCLE:  Max 10 hops   \n",
       "25            ACH              1                   CYCLE:  Max 10 hops   \n",
       "26            ACH              1  GATHER-SCATTER:  Max 3-degree Fan-In   \n",
       "27            ACH              1  GATHER-SCATTER:  Max 3-degree Fan-In   \n",
       "28            ACH              1  GATHER-SCATTER:  Max 3-degree Fan-In   \n",
       "29            ACH              1  GATHER-SCATTER:  Max 3-degree Fan-In   \n",
       "\n",
       "    pattern_id    pattern_name  \n",
       "20           2           CYCLE  \n",
       "21           2           CYCLE  \n",
       "22           2           CYCLE  \n",
       "23           2           CYCLE  \n",
       "24           2           CYCLE  \n",
       "25           2           CYCLE  \n",
       "26           3  GATHER-SCATTER  \n",
       "27           3  GATHER-SCATTER  \n",
       "28           3  GATHER-SCATTER  \n",
       "29           3  GATHER-SCATTER  "
      ]
     },
     "metadata": {},
     "output_type": "display_data"
    }
   ],
   "source": [
    "# display the first few rows of the DataFrame\n",
    "patterns[20:30]"
   ]
  },
  {
   "cell_type": "code",
   "execution_count": null,
   "metadata": {},
   "outputs": [
    {
     "data": {
      "text/plain": [
       "Index(['timestamp', 'from_bank', 'from_account', 'to_bank', 'to_account',\n",
       "       'amount_received', 'receiving_currency', 'amount_paid',\n",
       "       'payment_currency', 'payment_format', 'is_laundering',\n",
       "       'laundering_type', 'pattern_id', 'pattern_name'],\n",
       "      dtype='object')"
      ]
     },
     "metadata": {},
     "output_type": "display_data"
    }
   ],
   "source": [
    "patterns.columns"
   ]
  },
  {
   "cell_type": "code",
   "execution_count": null,
   "metadata": {},
   "outputs": [
    {
     "data": {
      "text/plain": [
       "timestamp              object\n",
       "from_bank               int64\n",
       "from_account           object\n",
       "to_bank                 int64\n",
       "to_account             object\n",
       "amount_received       float64\n",
       "receiving_currency     object\n",
       "amount_paid           float64\n",
       "payment_currency       object\n",
       "payment_format         object\n",
       "is_laundering           int64\n",
       "laundering_type        object\n",
       "pattern_id              int64\n",
       "pattern_name           object\n",
       "dtype: object"
      ]
     },
     "metadata": {},
     "output_type": "display_data"
    }
   ],
   "source": [
    "patterns.dtypes"
   ]
  },
  {
   "attachments": {},
   "cell_type": "markdown",
   "metadata": {},
   "source": [
    "### Payment Format Deep Dive"
   ]
  },
  {
   "cell_type": "code",
   "execution_count": null,
   "metadata": {},
   "outputs": [
    {
     "name": "stdout",
     "output_type": "stream",
     "text": [
      "         payment_format  percentage_of_transaction\n",
      "ACH                3208                  99.968838\n",
      "Bitcoin               1                   0.031162\n"
     ]
    }
   ],
   "source": [
    "# Get the count and percentage of each payment format\n",
    "counts = patterns['payment_format'].value_counts().to_frame()\n",
    "counts['percentage_of_transaction'] = counts['payment_format'] / len(patterns) * 100\n",
    "print(counts)"
   ]
  },
  {
   "attachments": {},
   "cell_type": "markdown",
   "metadata": {},
   "source": [
    "### Pattern Analysis"
   ]
  },
  {
   "cell_type": "code",
   "execution_count": null,
   "metadata": {},
   "outputs": [
    {
     "name": "stdout",
     "output_type": "stream",
     "text": [
      "Number of unique patterns: 8\n"
     ]
    }
   ],
   "source": [
    "# count the number of unique patterns\n",
    "pattern_count = patterns['pattern_name'].nunique()\n",
    "print(\"Number of unique patterns:\", pattern_count)"
   ]
  },
  {
   "cell_type": "code",
   "execution_count": null,
   "metadata": {},
   "outputs": [
    {
     "name": "stdout",
     "output_type": "stream",
     "text": [
      "pattern_name\n",
      "CYCLE             54\n",
      "GATHER-SCATTER    51\n",
      "BIPARTITE         49\n",
      "FAN-OUT           48\n",
      "SCATTER-GATHER    44\n",
      "STACK             43\n",
      "RANDOM            41\n",
      "FAN-IN            40\n",
      "Name: pattern_id, dtype: int64\n"
     ]
    }
   ],
   "source": [
    "# count the number of unique patterns_id for each pattern_name and sort the values in descending order\n",
    "pattern_id_count = patterns.groupby('pattern_name')['pattern_id'].nunique().sort_values(ascending=False)\n",
    "print(pattern_id_count)"
   ]
  },
  {
   "cell_type": "code",
   "execution_count": null,
   "metadata": {},
   "outputs": [
    {
     "name": "stdout",
     "output_type": "stream",
     "text": [
      "pattern_name\n",
      "STACK             446\n",
      "GATHER-SCATTER    380\n",
      "SCATTER-GATHER    339\n",
      "FAN-IN            307\n",
      "CYCLE             271\n",
      "BIPARTITE         250\n",
      "RANDOM            181\n",
      "FAN-OUT            43\n",
      "Name: from_account, dtype: int64\n"
     ]
    }
   ],
   "source": [
    "# count the number of unique from_account for each pattern_name and sort the values in descending order\n",
    "from_account_count = patterns.groupby('pattern_name')['from_account'].nunique().sort_values(ascending=False) \n",
    "print(from_account_count)"
   ]
  },
  {
   "cell_type": "code",
   "execution_count": null,
   "metadata": {},
   "outputs": [],
   "source": []
  }
 ],
 "metadata": {
  "language_info": {
   "name": "python"
  },
  "orig_nbformat": 4
 },
 "nbformat": 4,
 "nbformat_minor": 2
}
