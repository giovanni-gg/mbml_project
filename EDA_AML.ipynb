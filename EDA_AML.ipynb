{
 "cells": [
  {
   "attachments": {},
   "cell_type": "markdown",
   "metadata": {},
   "source": [
    "# EDA"
   ]
  },
  {
   "cell_type": "code",
   "execution_count": 15,
   "metadata": {},
   "outputs": [],
   "source": [
    "import pandas as pd\n",
    "import seaborn as sns\n",
    "import matplotlib.pyplot as plt"
   ]
  },
  {
   "attachments": {},
   "cell_type": "markdown",
   "metadata": {},
   "source": [
    "## Transactions Data Set"
   ]
  },
  {
   "cell_type": "code",
   "execution_count": 16,
   "metadata": {},
   "outputs": [],
   "source": [
    "df = pd.read_csv('data/HI-Small_Trans_adjusted.csv')\n",
    "\n",
    "def rename_columns(df):\n",
    "    new_cols = {}\n",
    "    for col in df.columns:\n",
    "        new_col = col.lower().replace(' ', '_')\n",
    "        new_cols[col] = new_col\n",
    "    return df.rename(columns=new_cols)\n",
    "\n",
    "\n",
    "df = rename_columns(df)\n",
    "# Rename the 'account' column to 'from_account'\n",
    "df = df.rename(columns={'account': 'from_account'})\n",
    "\n",
    "# Rename the 'account.1' column to 'to_account'\n",
    "df = df.rename(columns={'account.1': 'to_account'})"
   ]
  },
  {
   "cell_type": "code",
   "execution_count": 17,
   "metadata": {},
   "outputs": [
    {
     "data": {
      "text/html": [
       "<div>\n",
       "<style scoped>\n",
       "    .dataframe tbody tr th:only-of-type {\n",
       "        vertical-align: middle;\n",
       "    }\n",
       "\n",
       "    .dataframe tbody tr th {\n",
       "        vertical-align: top;\n",
       "    }\n",
       "\n",
       "    .dataframe thead th {\n",
       "        text-align: right;\n",
       "    }\n",
       "</style>\n",
       "<table border=\"1\" class=\"dataframe\">\n",
       "  <thead>\n",
       "    <tr style=\"text-align: right;\">\n",
       "      <th></th>\n",
       "      <th>timestamp</th>\n",
       "      <th>from_bank</th>\n",
       "      <th>from_account</th>\n",
       "      <th>to_bank</th>\n",
       "      <th>to_account</th>\n",
       "      <th>amount_received</th>\n",
       "      <th>receiving_currency</th>\n",
       "      <th>amount_paid</th>\n",
       "      <th>payment_currency</th>\n",
       "      <th>payment_format</th>\n",
       "      <th>is_laundering</th>\n",
       "    </tr>\n",
       "  </thead>\n",
       "  <tbody>\n",
       "    <tr>\n",
       "      <th>0</th>\n",
       "      <td>2022/09/01 00:20</td>\n",
       "      <td>10</td>\n",
       "      <td>8000EBD30</td>\n",
       "      <td>10</td>\n",
       "      <td>8000EBD30</td>\n",
       "      <td>3697.34</td>\n",
       "      <td>US Dollar</td>\n",
       "      <td>3697.34</td>\n",
       "      <td>US Dollar</td>\n",
       "      <td>Reinvestment</td>\n",
       "      <td>0</td>\n",
       "    </tr>\n",
       "    <tr>\n",
       "      <th>1</th>\n",
       "      <td>2022/09/01 00:20</td>\n",
       "      <td>3208</td>\n",
       "      <td>8000F4580</td>\n",
       "      <td>1</td>\n",
       "      <td>8000F5340</td>\n",
       "      <td>0.01</td>\n",
       "      <td>US Dollar</td>\n",
       "      <td>0.01</td>\n",
       "      <td>US Dollar</td>\n",
       "      <td>Cheque</td>\n",
       "      <td>0</td>\n",
       "    </tr>\n",
       "    <tr>\n",
       "      <th>2</th>\n",
       "      <td>2022/09/01 00:00</td>\n",
       "      <td>3209</td>\n",
       "      <td>8000F4670</td>\n",
       "      <td>3209</td>\n",
       "      <td>8000F4670</td>\n",
       "      <td>14675.57</td>\n",
       "      <td>US Dollar</td>\n",
       "      <td>14675.57</td>\n",
       "      <td>US Dollar</td>\n",
       "      <td>Reinvestment</td>\n",
       "      <td>0</td>\n",
       "    </tr>\n",
       "    <tr>\n",
       "      <th>3</th>\n",
       "      <td>2022/09/01 00:02</td>\n",
       "      <td>12</td>\n",
       "      <td>8000F5030</td>\n",
       "      <td>12</td>\n",
       "      <td>8000F5030</td>\n",
       "      <td>2806.97</td>\n",
       "      <td>US Dollar</td>\n",
       "      <td>2806.97</td>\n",
       "      <td>US Dollar</td>\n",
       "      <td>Reinvestment</td>\n",
       "      <td>0</td>\n",
       "    </tr>\n",
       "    <tr>\n",
       "      <th>4</th>\n",
       "      <td>2022/09/01 00:06</td>\n",
       "      <td>10</td>\n",
       "      <td>8000F5200</td>\n",
       "      <td>10</td>\n",
       "      <td>8000F5200</td>\n",
       "      <td>36682.97</td>\n",
       "      <td>US Dollar</td>\n",
       "      <td>36682.97</td>\n",
       "      <td>US Dollar</td>\n",
       "      <td>Reinvestment</td>\n",
       "      <td>0</td>\n",
       "    </tr>\n",
       "  </tbody>\n",
       "</table>\n",
       "</div>"
      ],
      "text/plain": [
       "          timestamp  from_bank from_account  to_bank to_account  \\\n",
       "0  2022/09/01 00:20         10    8000EBD30       10  8000EBD30   \n",
       "1  2022/09/01 00:20       3208    8000F4580        1  8000F5340   \n",
       "2  2022/09/01 00:00       3209    8000F4670     3209  8000F4670   \n",
       "3  2022/09/01 00:02         12    8000F5030       12  8000F5030   \n",
       "4  2022/09/01 00:06         10    8000F5200       10  8000F5200   \n",
       "\n",
       "   amount_received receiving_currency  amount_paid payment_currency  \\\n",
       "0          3697.34          US Dollar      3697.34        US Dollar   \n",
       "1             0.01          US Dollar         0.01        US Dollar   \n",
       "2         14675.57          US Dollar     14675.57        US Dollar   \n",
       "3          2806.97          US Dollar      2806.97        US Dollar   \n",
       "4         36682.97          US Dollar     36682.97        US Dollar   \n",
       "\n",
       "  payment_format  is_laundering  \n",
       "0   Reinvestment              0  \n",
       "1         Cheque              0  \n",
       "2   Reinvestment              0  \n",
       "3   Reinvestment              0  \n",
       "4   Reinvestment              0  "
      ]
     },
     "execution_count": 17,
     "metadata": {},
     "output_type": "execute_result"
    }
   ],
   "source": [
    "df.head()"
   ]
  },
  {
   "cell_type": "code",
   "execution_count": 18,
   "metadata": {},
   "outputs": [],
   "source": [
    "# save the dataframe to a new csv file overwriting the old one\n",
    "# df.to_csv('data/HI-Small_Trans_adjusted.csv', index=False)"
   ]
  },
  {
   "cell_type": "code",
   "execution_count": 19,
   "metadata": {},
   "outputs": [
    {
     "name": "stdout",
     "output_type": "stream",
     "text": [
      "<class 'pandas.core.frame.DataFrame'>\n",
      "RangeIndex: 4375554 entries, 0 to 4375553\n",
      "Data columns (total 11 columns):\n",
      " #   Column              Dtype  \n",
      "---  ------              -----  \n",
      " 0   timestamp           object \n",
      " 1   from_bank           int64  \n",
      " 2   from_account        object \n",
      " 3   to_bank             int64  \n",
      " 4   to_account          object \n",
      " 5   amount_received     float64\n",
      " 6   receiving_currency  object \n",
      " 7   amount_paid         float64\n",
      " 8   payment_currency    object \n",
      " 9   payment_format      object \n",
      " 10  is_laundering       int64  \n",
      "dtypes: float64(2), int64(3), object(6)\n",
      "memory usage: 367.2+ MB\n"
     ]
    }
   ],
   "source": [
    "df.info()"
   ]
  },
  {
   "cell_type": "code",
   "execution_count": 20,
   "metadata": {},
   "outputs": [
    {
     "data": {
      "text/html": [
       "<div>\n",
       "<style scoped>\n",
       "    .dataframe tbody tr th:only-of-type {\n",
       "        vertical-align: middle;\n",
       "    }\n",
       "\n",
       "    .dataframe tbody tr th {\n",
       "        vertical-align: top;\n",
       "    }\n",
       "\n",
       "    .dataframe thead th {\n",
       "        text-align: right;\n",
       "    }\n",
       "</style>\n",
       "<table border=\"1\" class=\"dataframe\">\n",
       "  <thead>\n",
       "    <tr style=\"text-align: right;\">\n",
       "      <th></th>\n",
       "      <th>from_bank</th>\n",
       "      <th>to_bank</th>\n",
       "      <th>amount_received</th>\n",
       "      <th>amount_paid</th>\n",
       "      <th>is_laundering</th>\n",
       "    </tr>\n",
       "  </thead>\n",
       "  <tbody>\n",
       "    <tr>\n",
       "      <th>count</th>\n",
       "      <td>4.375554e+06</td>\n",
       "      <td>4.375554e+06</td>\n",
       "      <td>4.375554e+06</td>\n",
       "      <td>4.375554e+06</td>\n",
       "      <td>4.375554e+06</td>\n",
       "    </tr>\n",
       "    <tr>\n",
       "      <th>mean</th>\n",
       "      <td>4.504443e+04</td>\n",
       "      <td>6.593507e+04</td>\n",
       "      <td>6.024675e+06</td>\n",
       "      <td>4.601136e+06</td>\n",
       "      <td>9.543934e-04</td>\n",
       "    </tr>\n",
       "    <tr>\n",
       "      <th>std</th>\n",
       "      <td>8.023166e+04</td>\n",
       "      <td>8.437782e+04</td>\n",
       "      <td>1.028182e+09</td>\n",
       "      <td>8.833349e+08</td>\n",
       "      <td>3.087852e-02</td>\n",
       "    </tr>\n",
       "    <tr>\n",
       "      <th>min</th>\n",
       "      <td>1.000000e+00</td>\n",
       "      <td>1.000000e+00</td>\n",
       "      <td>1.000000e-06</td>\n",
       "      <td>1.000000e-06</td>\n",
       "      <td>0.000000e+00</td>\n",
       "    </tr>\n",
       "    <tr>\n",
       "      <th>25%</th>\n",
       "      <td>1.210000e+02</td>\n",
       "      <td>4.403000e+03</td>\n",
       "      <td>1.791800e+02</td>\n",
       "      <td>1.804600e+02</td>\n",
       "      <td>0.000000e+00</td>\n",
       "    </tr>\n",
       "    <tr>\n",
       "      <th>50%</th>\n",
       "      <td>1.005700e+04</td>\n",
       "      <td>2.157500e+04</td>\n",
       "      <td>1.435670e+03</td>\n",
       "      <td>1.439415e+03</td>\n",
       "      <td>0.000000e+00</td>\n",
       "    </tr>\n",
       "    <tr>\n",
       "      <th>75%</th>\n",
       "      <td>2.831700e+04</td>\n",
       "      <td>1.223320e+05</td>\n",
       "      <td>1.277631e+04</td>\n",
       "      <td>1.272508e+04</td>\n",
       "      <td>0.000000e+00</td>\n",
       "    </tr>\n",
       "    <tr>\n",
       "      <th>max</th>\n",
       "      <td>3.563030e+05</td>\n",
       "      <td>3.562940e+05</td>\n",
       "      <td>1.046302e+12</td>\n",
       "      <td>1.046302e+12</td>\n",
       "      <td>1.000000e+00</td>\n",
       "    </tr>\n",
       "  </tbody>\n",
       "</table>\n",
       "</div>"
      ],
      "text/plain": [
       "          from_bank       to_bank  amount_received   amount_paid  \\\n",
       "count  4.375554e+06  4.375554e+06     4.375554e+06  4.375554e+06   \n",
       "mean   4.504443e+04  6.593507e+04     6.024675e+06  4.601136e+06   \n",
       "std    8.023166e+04  8.437782e+04     1.028182e+09  8.833349e+08   \n",
       "min    1.000000e+00  1.000000e+00     1.000000e-06  1.000000e-06   \n",
       "25%    1.210000e+02  4.403000e+03     1.791800e+02  1.804600e+02   \n",
       "50%    1.005700e+04  2.157500e+04     1.435670e+03  1.439415e+03   \n",
       "75%    2.831700e+04  1.223320e+05     1.277631e+04  1.272508e+04   \n",
       "max    3.563030e+05  3.562940e+05     1.046302e+12  1.046302e+12   \n",
       "\n",
       "       is_laundering  \n",
       "count   4.375554e+06  \n",
       "mean    9.543934e-04  \n",
       "std     3.087852e-02  \n",
       "min     0.000000e+00  \n",
       "25%     0.000000e+00  \n",
       "50%     0.000000e+00  \n",
       "75%     0.000000e+00  \n",
       "max     1.000000e+00  "
      ]
     },
     "execution_count": 20,
     "metadata": {},
     "output_type": "execute_result"
    }
   ],
   "source": [
    "df.describe()"
   ]
  },
  {
   "cell_type": "code",
   "execution_count": 21,
   "metadata": {},
   "outputs": [
    {
     "name": "stdout",
     "output_type": "stream",
     "text": [
      "Null Values = False\n"
     ]
    }
   ],
   "source": [
    "'''Checking for any null values'''\n",
    "\n",
    "print('Null Values =',df.isnull().values.any())"
   ]
  },
  {
   "attachments": {},
   "cell_type": "markdown",
   "metadata": {},
   "source": [
    "### Payment_format deep dive"
   ]
  },
  {
   "cell_type": "code",
   "execution_count": 22,
   "metadata": {},
   "outputs": [
    {
     "name": "stdout",
     "output_type": "stream",
     "text": [
      "              payment_format  percentage_of_transaction\n",
      "Cheque               1578228                  36.069215\n",
      "Credit Card          1125878                  25.731096\n",
      "ACH                   502115                  11.475461\n",
      "Reinvestment          481056                  10.994174\n",
      "Cash                  415462                   9.495072\n",
      "Wire                  146948                   3.358386\n",
      "Bitcoin               125867                   2.876596\n"
     ]
    }
   ],
   "source": [
    "# Get the count and percentage of each payment format\n",
    "counts = df['payment_format'].value_counts().to_frame()\n",
    "counts['percentage_of_transaction'] = counts['payment_format'] / len(df) * 100\n",
    "print(counts)\n"
   ]
  },
  {
   "cell_type": "code",
   "execution_count": 33,
   "metadata": {},
   "outputs": [
    {
     "data": {
      "text/html": [
       "<div>\n",
       "<style scoped>\n",
       "    .dataframe tbody tr th:only-of-type {\n",
       "        vertical-align: middle;\n",
       "    }\n",
       "\n",
       "    .dataframe tbody tr th {\n",
       "        vertical-align: top;\n",
       "    }\n",
       "\n",
       "    .dataframe thead th {\n",
       "        text-align: right;\n",
       "    }\n",
       "</style>\n",
       "<table border=\"1\" class=\"dataframe\">\n",
       "  <thead>\n",
       "    <tr style=\"text-align: right;\">\n",
       "      <th></th>\n",
       "      <th>average_amount_paid</th>\n",
       "    </tr>\n",
       "  </thead>\n",
       "  <tbody>\n",
       "    <tr>\n",
       "      <th>Wire</th>\n",
       "      <td>34.004149</td>\n",
       "    </tr>\n",
       "    <tr>\n",
       "      <th>ACH</th>\n",
       "      <td>21.282938</td>\n",
       "    </tr>\n",
       "    <tr>\n",
       "      <th>Cash</th>\n",
       "      <td>17.546826</td>\n",
       "    </tr>\n",
       "    <tr>\n",
       "      <th>Reinvestment</th>\n",
       "      <td>5.394401</td>\n",
       "    </tr>\n",
       "    <tr>\n",
       "      <th>Cheque</th>\n",
       "      <td>3.876954</td>\n",
       "    </tr>\n",
       "    <tr>\n",
       "      <th>Credit Card</th>\n",
       "      <td>0.077772</td>\n",
       "    </tr>\n",
       "    <tr>\n",
       "      <th>Bitcoin</th>\n",
       "      <td>0.000260</td>\n",
       "    </tr>\n",
       "  </tbody>\n",
       "</table>\n",
       "</div>"
      ],
      "text/plain": [
       "              average_amount_paid\n",
       "Wire                    34.004149\n",
       "ACH                     21.282938\n",
       "Cash                    17.546826\n",
       "Reinvestment             5.394401\n",
       "Cheque                   3.876954\n",
       "Credit Card              0.077772\n",
       "Bitcoin                  0.000260"
      ]
     },
     "execution_count": 33,
     "metadata": {},
     "output_type": "execute_result"
    }
   ],
   "source": [
    "# Calculate the average amount paid per transaction for each payment format, and sort the results in descending order\n",
    "\n",
    "# Group the DataFrame by payment_format and calculate the mean payment amount for each group\n",
    "avg_amount = df.groupby('payment_format')['amount_paid'].mean()\n",
    "\n",
    "# Divide the mean payment amount by the number of transactions for each payment_format to get the average amount_paid per transaction\n",
    "num_transactions = df['payment_format'].value_counts()\n",
    "avg_amount_per_transaction = avg_amount / num_transactions\n",
    "\n",
    "# Convert the resulting Series into a DataFrame and sort it by the average amount_paid per transaction in descending order\n",
    "result_df = avg_amount_per_transaction.to_frame()\n",
    "\n",
    "# rename column name to 'average_amount_paid'\n",
    "result_df = result_df.rename(columns={0: 'average_amount_paid'})\n",
    "\n",
    "# sort the values in descending order\n",
    "result_df = result_df.sort_values(by='average_amount_paid', ascending=False)\n",
    "result_df"
   ]
  },
  {
   "attachments": {},
   "cell_type": "markdown",
   "metadata": {},
   "source": [
    "### Bank Deep Dive"
   ]
  },
  {
   "cell_type": "code",
   "execution_count": null,
   "metadata": {},
   "outputs": [
    {
     "name": "stdout",
     "output_type": "stream",
     "text": [
      "     from_count  from_pct  to_count    to_pct\n",
      "70     449859.0  8.858378       NaN       NaN\n",
      "10      81629.0  1.607394   42547.0  0.837812\n",
      "12      79754.0  1.570472   41872.0  0.824521\n",
      "1       62211.0  1.225025   30115.0  0.593008\n",
      "15      52511.0  1.034018   38721.0  0.762473\n",
      "220     52417.0  1.032167   30625.0  0.603051\n",
      "20      41008.0  0.807507   22048.0  0.434157\n",
      "3       38413.0  0.756408   25627.0  0.504633\n",
      "7       31086.0  0.612129   23029.0  0.453475\n",
      "211     30451.0  0.599624   20576.0  0.405171\n",
      "28          NaN       NaN   21160.0  0.416671\n"
     ]
    }
   ],
   "source": [
    "# Get the count and percentage of transactions grouped by from_bank\n",
    "from_counts = df.groupby('from_bank').size().sort_values(ascending=False).head(10)\n",
    "from_pct = from_counts / len(df) * 100\n",
    "\n",
    "# Get the count and percentage of transactions grouped by to_bank\n",
    "to_counts = df.groupby('to_bank').size().sort_values(ascending=False).head(10)\n",
    "to_pct = to_counts / len(df) * 100\n",
    "\n",
    "# Combine the count and percentage results into a single DataFrame\n",
    "result_df = pd.concat([from_counts, from_pct, to_counts, to_pct], axis=1, keys=['from_count', 'from_pct', 'to_count', 'to_pct'])\n",
    "\n",
    "# Print the resulting DataFrame\n",
    "print(result_df)"
   ]
  },
  {
   "attachments": {},
   "cell_type": "markdown",
   "metadata": {},
   "source": [
    "### Bank Account Analyis"
   ]
  },
  {
   "cell_type": "code",
   "execution_count": null,
   "metadata": {},
   "outputs": [
    {
     "name": "stdout",
     "output_type": "stream",
     "text": [
      "Distinct 'from_account' count: 496995\n",
      "Distinct 'to_account' count: 420636\n"
     ]
    }
   ],
   "source": [
    "# Get the count of distinct 'from_account' and 'to_account' values\n",
    "from_count = df['from_account'].nunique()\n",
    "to_count = df['to_account'].nunique()\n",
    "\n",
    "print(\"Distinct 'from_account' count:\", from_count)\n",
    "print(\"Distinct 'to_account' count:\", to_count)\n"
   ]
  },
  {
   "cell_type": "code",
   "execution_count": null,
   "metadata": {},
   "outputs": [
    {
     "name": "stdout",
     "output_type": "stream",
     "text": [
      "Number of accounts in both 'from_account' and 'to_account': 402551\n",
      "Percentage of accounts in both 'from_account' and 'to_account': 78.15%\n"
     ]
    }
   ],
   "source": [
    "# Get the count and percentage of accounts that overlap between 'from_account' and 'to_account'\n",
    "from_set = set(df['from_account'].unique())\n",
    "to_set = set(df['to_account'].unique())\n",
    "overlap_count = len(from_set.intersection(to_set))\n",
    "\n",
    "total_count = len(from_set.union(to_set))\n",
    "\n",
    "overlap_pct = overlap_count / total_count * 100\n",
    "\n",
    "print(\"Number of accounts in both 'from_account' and 'to_account':\", overlap_count)\n",
    "print(\"Percentage of accounts in both 'from_account' and 'to_account': {:.2f}%\".format(overlap_pct))\n"
   ]
  },
  {
   "cell_type": "code",
   "execution_count": null,
   "metadata": {},
   "outputs": [
    {
     "name": "stdout",
     "output_type": "stream",
     "text": [
      "Number of accounts not in both 'from_account' and 'to_account': 112529\n",
      "Percentage of accounts not in both 'from_account' and 'to_account': 21.85%\n"
     ]
    }
   ],
   "source": [
    "# Get the count and percentage of accounts that don't overlap between 'from_account' and 'to_account'\n",
    "from_set = set(df['from_account'].unique())\n",
    "to_set = set(df['to_account'].unique())\n",
    "non_overlap_count = len(from_set.symmetric_difference(to_set))\n",
    "\n",
    "total_count = len(from_set.union(to_set))\n",
    "\n",
    "non_overlap_pct = non_overlap_count / total_count * 100\n",
    "\n",
    "print(\"Number of accounts not in both 'from_account' and 'to_account':\", non_overlap_count)\n",
    "print(\"Percentage of accounts not in both 'from_account' and 'to_account': {:.2f}%\".format(non_overlap_pct))\n"
   ]
  },
  {
   "attachments": {},
   "cell_type": "markdown",
   "metadata": {},
   "source": [
    "### Check multicolinearity between variables \n",
    "\n",
    "Check if we need to remove features based on the high colinearity."
   ]
  },
  {
   "cell_type": "code",
   "execution_count": null,
   "metadata": {},
   "outputs": [
    {
     "data": {
      "text/plain": [
       "<AxesSubplot:title={'center':'Correlation Matrix'}>"
      ]
     },
     "execution_count": 17,
     "metadata": {},
     "output_type": "execute_result"
    },
    {
     "data": {
      "image/png": "[encoded data removed]",
      "text/plain": [
       "<Figure size 1500x1500 with 2 Axes>"
      ]
     },
     "metadata": {},
     "output_type": "display_data"
    }
   ],
   "source": [
    "\n",
    "''' correlation matrix to check multicolinearity between variables '''\n",
    "\n",
    "correlation = df.corr()\n",
    "plt.figure(figsize=(15,15))\n",
    "plt.title('Correlation Matrix')\n",
    "sns.heatmap(correlation, vmax=1, square=True,annot=True,cmap='cubehelix')"
   ]
  },
  {
   "attachments": {},
   "cell_type": "markdown",
   "metadata": {},
   "source": [
    "### Is_laudering = 1 Analysis"
   ]
  },
  {
   "cell_type": "code",
   "execution_count": 59,
   "metadata": {},
   "outputs": [
    {
     "name": "stdout",
     "output_type": "stream",
     "text": [
      "0.09543934322373807\n",
      "             payment_format  percentage_of_transaction\n",
      "ACH                    3583                  85.799808\n",
      "Cheque                  275                   6.585249\n",
      "Credit Card             178                   4.262452\n",
      "Cash                     93                   2.227011\n",
      "Bitcoin                  47                   1.125479\n"
     ]
    }
   ],
   "source": [
    "# get rows where is_laudering is 1\n",
    "df_laundering = df[df['is_laundering'] == 1]\n",
    "\n",
    "# Get the count and percentage of each payment format\n",
    "counts = df_laundering['payment_format'].value_counts().to_frame()\n",
    "counts['percentage_of_transaction'] = counts['payment_format'] / len(df_laundering) * 100\n",
    "print(len(df_laundering) / len(df) * 100)\n",
    "print(counts)"
   ]
  },
  {
   "cell_type": "code",
   "execution_count": 55,
   "metadata": {},
   "outputs": [
    {
     "name": "stdout",
     "output_type": "stream",
     "text": [
      "              payment_format  percentage_of_transaction\n",
      "Cheque               1577953                  36.097382\n",
      "Credit Card          1125700                  25.751605\n",
      "ACH                   498532                  11.404459\n",
      "Reinvestment          481056                  11.004676\n",
      "Cash                  415369                   9.502015\n",
      "Wire                  146948                   3.361594\n",
      "Bitcoin               125820                   2.878269\n"
     ]
    }
   ],
   "source": [
    "# get rows where is_laudering is 0\n",
    "df_isNotlaundering = df[df['is_laundering'] == 0]\n",
    "\n",
    "# Get the count and percentage of each payment format\n",
    "counts = df_isNotlaundering['payment_format'].value_counts().to_frame()\n",
    "counts['percentage_of_transaction'] = counts['payment_format'] / len(df_isNotlaundering) * 100\n",
    "print(counts)"
   ]
  },
  {
   "attachments": {},
   "cell_type": "markdown",
   "metadata": {},
   "source": [
    "## Money Laudering Patterns Data Set"
   ]
  },
  {
   "attachments": {},
   "cell_type": "markdown",
   "metadata": {},
   "source": [
    "### Pre Processing"
   ]
  },
  {
   "cell_type": "code",
   "execution_count": null,
   "metadata": {},
   "outputs": [],
   "source": [
    "# read the file\n",
    "with open(\"data/HI-Small_Patterns.txt\", \"r\") as f:\n",
    "    lines = f.readlines()\n",
    "\n",
    "patterns_data = []\n",
    "current_laundering_id = 0\n",
    "current_pattern_name = \"\"\n",
    "\n",
    "# loop over the lines\n",
    "for line in lines:\n",
    "    line = line.strip()\n",
    "    if not line:\n",
    "        continue\n",
    "    if line.startswith(\"BEGIN LAUNDERING ATTEMPT\"):\n",
    "        current_laundering_id += 1\n",
    "        laundering_type = line.split(\" - \")[1]\n",
    "        current_pattern_name = laundering_type.split(\":\")[0].strip()\n",
    "    elif line.startswith(\"END LAUNDERING ATTEMPT\"):\n",
    "        continue\n",
    "    else:\n",
    "        cols = line.split(\",\")\n",
    "        cols = [col.strip() for col in cols]\n",
    "        cols.append(laundering_type)\n",
    "        cols.append(current_laundering_id)\n",
    "        cols.append(current_pattern_name)\n",
    "        patterns_data.append(cols)\n",
    "\n",
    "# convert to dataframe\n",
    "patterns = pd.DataFrame(patterns_data, columns=['timestamp', 'from_bank', 'from_account', 'to_bank', 'to_account', 'amount_received',\n",
    "                                 'receiving_currency', 'amount_paid', 'payment_currency', 'payment_format', 'is_laundering', 'laundering_type', 'pattern_id', 'pattern_name'])\n",
    "\n",
    "# convert columns to appropriate data types\n",
    "patterns['amount_received'] = patterns['amount_received'].astype(float)\n",
    "patterns['amount_paid'] = patterns['amount_paid'].astype(float)"
   ]
  },
  {
   "cell_type": "code",
   "execution_count": null,
   "metadata": {},
   "outputs": [],
   "source": [
    "#patterns.to_csv(\"data/patterns_dataframe.csv\", index=False)"
   ]
  },
  {
   "cell_type": "code",
   "execution_count": 35,
   "metadata": {},
   "outputs": [],
   "source": [
    "patterns = pd.read_csv(\"data/patterns_dataframe.csv\")"
   ]
  },
  {
   "cell_type": "code",
   "execution_count": 36,
   "metadata": {},
   "outputs": [
    {
     "data": {
      "text/html": [
       "<div>\n",
       "<style scoped>\n",
       "    .dataframe tbody tr th:only-of-type {\n",
       "        vertical-align: middle;\n",
       "    }\n",
       "\n",
       "    .dataframe tbody tr th {\n",
       "        vertical-align: top;\n",
       "    }\n",
       "\n",
       "    .dataframe thead th {\n",
       "        text-align: right;\n",
       "    }\n",
       "</style>\n",
       "<table border=\"1\" class=\"dataframe\">\n",
       "  <thead>\n",
       "    <tr style=\"text-align: right;\">\n",
       "      <th></th>\n",
       "      <th>timestamp</th>\n",
       "      <th>from_bank</th>\n",
       "      <th>from_account</th>\n",
       "      <th>to_bank</th>\n",
       "      <th>to_account</th>\n",
       "      <th>amount_received</th>\n",
       "      <th>receiving_currency</th>\n",
       "      <th>amount_paid</th>\n",
       "      <th>payment_currency</th>\n",
       "      <th>payment_format</th>\n",
       "      <th>is_laundering</th>\n",
       "      <th>laundering_type</th>\n",
       "      <th>pattern_id</th>\n",
       "      <th>pattern_name</th>\n",
       "    </tr>\n",
       "  </thead>\n",
       "  <tbody>\n",
       "    <tr>\n",
       "      <th>20</th>\n",
       "      <td>2022/09/03 10:20</td>\n",
       "      <td>24856</td>\n",
       "      <td>8090E8EB0</td>\n",
       "      <td>71</td>\n",
       "      <td>804ABCE90</td>\n",
       "      <td>637140.60</td>\n",
       "      <td>Rupee</td>\n",
       "      <td>637140.60</td>\n",
       "      <td>Rupee</td>\n",
       "      <td>ACH</td>\n",
       "      <td>1</td>\n",
       "      <td>CYCLE:  Max 10 hops</td>\n",
       "      <td>2</td>\n",
       "      <td>CYCLE</td>\n",
       "    </tr>\n",
       "    <tr>\n",
       "      <th>21</th>\n",
       "      <td>2022/09/03 12:08</td>\n",
       "      <td>71</td>\n",
       "      <td>804ABCE90</td>\n",
       "      <td>213737</td>\n",
       "      <td>805494C30</td>\n",
       "      <td>621578.18</td>\n",
       "      <td>Rupee</td>\n",
       "      <td>621578.18</td>\n",
       "      <td>Rupee</td>\n",
       "      <td>ACH</td>\n",
       "      <td>1</td>\n",
       "      <td>CYCLE:  Max 10 hops</td>\n",
       "      <td>2</td>\n",
       "      <td>CYCLE</td>\n",
       "    </tr>\n",
       "    <tr>\n",
       "      <th>22</th>\n",
       "      <td>2022/09/03 13:24</td>\n",
       "      <td>213737</td>\n",
       "      <td>805494C30</td>\n",
       "      <td>14290</td>\n",
       "      <td>801B949C0</td>\n",
       "      <td>7222.58</td>\n",
       "      <td>Euro</td>\n",
       "      <td>7222.58</td>\n",
       "      <td>Euro</td>\n",
       "      <td>ACH</td>\n",
       "      <td>1</td>\n",
       "      <td>CYCLE:  Max 10 hops</td>\n",
       "      <td>2</td>\n",
       "      <td>CYCLE</td>\n",
       "    </tr>\n",
       "    <tr>\n",
       "      <th>23</th>\n",
       "      <td>2022/09/04 03:24</td>\n",
       "      <td>14290</td>\n",
       "      <td>801B949C0</td>\n",
       "      <td>10057</td>\n",
       "      <td>803DE1580</td>\n",
       "      <td>892031.21</td>\n",
       "      <td>Yen</td>\n",
       "      <td>892031.21</td>\n",
       "      <td>Yen</td>\n",
       "      <td>ACH</td>\n",
       "      <td>1</td>\n",
       "      <td>CYCLE:  Max 10 hops</td>\n",
       "      <td>2</td>\n",
       "      <td>CYCLE</td>\n",
       "    </tr>\n",
       "    <tr>\n",
       "      <th>24</th>\n",
       "      <td>2022/09/04 09:44</td>\n",
       "      <td>10057</td>\n",
       "      <td>803DE1580</td>\n",
       "      <td>28628</td>\n",
       "      <td>80ACEE280</td>\n",
       "      <td>11364.12</td>\n",
       "      <td>Australian Dollar</td>\n",
       "      <td>11364.12</td>\n",
       "      <td>Australian Dollar</td>\n",
       "      <td>ACH</td>\n",
       "      <td>1</td>\n",
       "      <td>CYCLE:  Max 10 hops</td>\n",
       "      <td>2</td>\n",
       "      <td>CYCLE</td>\n",
       "    </tr>\n",
       "    <tr>\n",
       "      <th>25</th>\n",
       "      <td>2022/09/04 15:51</td>\n",
       "      <td>28628</td>\n",
       "      <td>80ACEE280</td>\n",
       "      <td>1467</td>\n",
       "      <td>8013C4030</td>\n",
       "      <td>7945.55</td>\n",
       "      <td>US Dollar</td>\n",
       "      <td>7945.55</td>\n",
       "      <td>US Dollar</td>\n",
       "      <td>ACH</td>\n",
       "      <td>1</td>\n",
       "      <td>CYCLE:  Max 10 hops</td>\n",
       "      <td>2</td>\n",
       "      <td>CYCLE</td>\n",
       "    </tr>\n",
       "    <tr>\n",
       "      <th>26</th>\n",
       "      <td>2022/09/01 00:04</td>\n",
       "      <td>119</td>\n",
       "      <td>811C597B0</td>\n",
       "      <td>48309</td>\n",
       "      <td>811C599A0</td>\n",
       "      <td>34254.65</td>\n",
       "      <td>Saudi Riyal</td>\n",
       "      <td>34254.65</td>\n",
       "      <td>Saudi Riyal</td>\n",
       "      <td>ACH</td>\n",
       "      <td>1</td>\n",
       "      <td>GATHER-SCATTER:  Max 3-degree Fan-In</td>\n",
       "      <td>3</td>\n",
       "      <td>GATHER-SCATTER</td>\n",
       "    </tr>\n",
       "    <tr>\n",
       "      <th>27</th>\n",
       "      <td>2022/09/01 19:27</td>\n",
       "      <td>150240</td>\n",
       "      <td>812D22980</td>\n",
       "      <td>48309</td>\n",
       "      <td>811C599A0</td>\n",
       "      <td>5971.98</td>\n",
       "      <td>Saudi Riyal</td>\n",
       "      <td>5971.98</td>\n",
       "      <td>Saudi Riyal</td>\n",
       "      <td>ACH</td>\n",
       "      <td>1</td>\n",
       "      <td>GATHER-SCATTER:  Max 3-degree Fan-In</td>\n",
       "      <td>3</td>\n",
       "      <td>GATHER-SCATTER</td>\n",
       "    </tr>\n",
       "    <tr>\n",
       "      <th>28</th>\n",
       "      <td>2022/09/04 05:06</td>\n",
       "      <td>222</td>\n",
       "      <td>811B83280</td>\n",
       "      <td>48309</td>\n",
       "      <td>811C599A0</td>\n",
       "      <td>50445.58</td>\n",
       "      <td>Saudi Riyal</td>\n",
       "      <td>50445.58</td>\n",
       "      <td>Saudi Riyal</td>\n",
       "      <td>ACH</td>\n",
       "      <td>1</td>\n",
       "      <td>GATHER-SCATTER:  Max 3-degree Fan-In</td>\n",
       "      <td>3</td>\n",
       "      <td>GATHER-SCATTER</td>\n",
       "    </tr>\n",
       "    <tr>\n",
       "      <th>29</th>\n",
       "      <td>2022/09/04 05:03</td>\n",
       "      <td>48309</td>\n",
       "      <td>811C599A0</td>\n",
       "      <td>48309</td>\n",
       "      <td>811C599A0</td>\n",
       "      <td>48649.42</td>\n",
       "      <td>Saudi Riyal</td>\n",
       "      <td>48649.42</td>\n",
       "      <td>Saudi Riyal</td>\n",
       "      <td>ACH</td>\n",
       "      <td>1</td>\n",
       "      <td>GATHER-SCATTER:  Max 3-degree Fan-In</td>\n",
       "      <td>3</td>\n",
       "      <td>GATHER-SCATTER</td>\n",
       "    </tr>\n",
       "  </tbody>\n",
       "</table>\n",
       "</div>"
      ],
      "text/plain": [
       "           timestamp  from_bank from_account  to_bank to_account  \\\n",
       "20  2022/09/03 10:20      24856    8090E8EB0       71  804ABCE90   \n",
       "21  2022/09/03 12:08         71    804ABCE90   213737  805494C30   \n",
       "22  2022/09/03 13:24     213737    805494C30    14290  801B949C0   \n",
       "23  2022/09/04 03:24      14290    801B949C0    10057  803DE1580   \n",
       "24  2022/09/04 09:44      10057    803DE1580    28628  80ACEE280   \n",
       "25  2022/09/04 15:51      28628    80ACEE280     1467  8013C4030   \n",
       "26  2022/09/01 00:04        119    811C597B0    48309  811C599A0   \n",
       "27  2022/09/01 19:27     150240    812D22980    48309  811C599A0   \n",
       "28  2022/09/04 05:06        222    811B83280    48309  811C599A0   \n",
       "29  2022/09/04 05:03      48309    811C599A0    48309  811C599A0   \n",
       "\n",
       "    amount_received receiving_currency  amount_paid   payment_currency  \\\n",
       "20        637140.60              Rupee    637140.60              Rupee   \n",
       "21        621578.18              Rupee    621578.18              Rupee   \n",
       "22          7222.58               Euro      7222.58               Euro   \n",
       "23        892031.21                Yen    892031.21                Yen   \n",
       "24         11364.12  Australian Dollar     11364.12  Australian Dollar   \n",
       "25          7945.55          US Dollar      7945.55          US Dollar   \n",
       "26         34254.65        Saudi Riyal     34254.65        Saudi Riyal   \n",
       "27          5971.98        Saudi Riyal      5971.98        Saudi Riyal   \n",
       "28         50445.58        Saudi Riyal     50445.58        Saudi Riyal   \n",
       "29         48649.42        Saudi Riyal     48649.42        Saudi Riyal   \n",
       "\n",
       "   payment_format  is_laundering                       laundering_type  \\\n",
       "20            ACH              1                   CYCLE:  Max 10 hops   \n",
       "21            ACH              1                   CYCLE:  Max 10 hops   \n",
       "22            ACH              1                   CYCLE:  Max 10 hops   \n",
       "23            ACH              1                   CYCLE:  Max 10 hops   \n",
       "24            ACH              1                   CYCLE:  Max 10 hops   \n",
       "25            ACH              1                   CYCLE:  Max 10 hops   \n",
       "26            ACH              1  GATHER-SCATTER:  Max 3-degree Fan-In   \n",
       "27            ACH              1  GATHER-SCATTER:  Max 3-degree Fan-In   \n",
       "28            ACH              1  GATHER-SCATTER:  Max 3-degree Fan-In   \n",
       "29            ACH              1  GATHER-SCATTER:  Max 3-degree Fan-In   \n",
       "\n",
       "    pattern_id    pattern_name  \n",
       "20           2           CYCLE  \n",
       "21           2           CYCLE  \n",
       "22           2           CYCLE  \n",
       "23           2           CYCLE  \n",
       "24           2           CYCLE  \n",
       "25           2           CYCLE  \n",
       "26           3  GATHER-SCATTER  \n",
       "27           3  GATHER-SCATTER  \n",
       "28           3  GATHER-SCATTER  \n",
       "29           3  GATHER-SCATTER  "
      ]
     },
     "execution_count": 36,
     "metadata": {},
     "output_type": "execute_result"
    }
   ],
   "source": [
    "# display the first few rows of the DataFrame\n",
    "patterns[20:30]"
   ]
  },
  {
   "cell_type": "code",
   "execution_count": 37,
   "metadata": {},
   "outputs": [
    {
     "data": {
      "text/plain": [
       "Index(['timestamp', 'from_bank', 'from_account', 'to_bank', 'to_account',\n",
       "       'amount_received', 'receiving_currency', 'amount_paid',\n",
       "       'payment_currency', 'payment_format', 'is_laundering',\n",
       "       'laundering_type', 'pattern_id', 'pattern_name'],\n",
       "      dtype='object')"
      ]
     },
     "execution_count": 37,
     "metadata": {},
     "output_type": "execute_result"
    }
   ],
   "source": [
    "patterns.columns"
   ]
  },
  {
   "attachments": {},
   "cell_type": "markdown",
   "metadata": {},
   "source": [
    "### Payment Format Deep Dive"
   ]
  },
  {
   "cell_type": "code",
   "execution_count": 39,
   "metadata": {},
   "outputs": [
    {
     "name": "stdout",
     "output_type": "stream",
     "text": [
      "         payment_format  percentage_of_transaction\n",
      "ACH                3208                  99.968838\n",
      "Bitcoin               1                   0.031162\n"
     ]
    }
   ],
   "source": [
    "# Get the count and percentage of each payment format\n",
    "counts = patterns['payment_format'].value_counts().to_frame()\n",
    "counts['percentage_of_transaction'] = counts['payment_format'] / len(patterns) * 100\n",
    "print(counts)"
   ]
  },
  {
   "attachments": {},
   "cell_type": "markdown",
   "metadata": {},
   "source": [
    "### Pattern Analysis"
   ]
  },
  {
   "cell_type": "code",
   "execution_count": 41,
   "metadata": {},
   "outputs": [
    {
     "name": "stdout",
     "output_type": "stream",
     "text": [
      "Number of unique patterns: 8\n"
     ]
    }
   ],
   "source": [
    "# count the number of unique patterns\n",
    "pattern_count = patterns['pattern_name'].nunique()\n",
    "print(\"Number of unique patterns:\", pattern_count)"
   ]
  },
  {
   "cell_type": "code",
   "execution_count": 50,
   "metadata": {},
   "outputs": [
    {
     "name": "stdout",
     "output_type": "stream",
     "text": [
      "pattern_name\n",
      "CYCLE             54\n",
      "GATHER-SCATTER    51\n",
      "BIPARTITE         49\n",
      "FAN-OUT           48\n",
      "SCATTER-GATHER    44\n",
      "STACK             43\n",
      "RANDOM            41\n",
      "FAN-IN            40\n",
      "Name: pattern_id, dtype: int64\n"
     ]
    }
   ],
   "source": [
    "# count the number of unique patterns_id for each pattern_name and sort the values in descending order\n",
    "pattern_id_count = patterns.groupby('pattern_name')['pattern_id'].nunique().sort_values(ascending=False)\n",
    "print(pattern_id_count)"
   ]
  },
  {
   "cell_type": "code",
   "execution_count": 52,
   "metadata": {},
   "outputs": [
    {
     "name": "stdout",
     "output_type": "stream",
     "text": [
      "pattern_name\n",
      "STACK             446\n",
      "GATHER-SCATTER    380\n",
      "SCATTER-GATHER    339\n",
      "FAN-IN            307\n",
      "CYCLE             271\n",
      "BIPARTITE         250\n",
      "RANDOM            181\n",
      "FAN-OUT            43\n",
      "Name: from_account, dtype: int64\n"
     ]
    }
   ],
   "source": [
    "# count the number of unique from_account for each pattern_name and sort the values in descending order\n",
    "from_account_count = patterns.groupby('pattern_name')['from_account'].nunique().sort_values(ascending=False) \n",
    "print(from_account_count)"
   ]
  },
  {
   "cell_type": "code",
   "execution_count": null,
   "metadata": {},
   "outputs": [],
   "source": []
  }
 ],
 "metadata": {
  "kernelspec": {
   "display_name": "base",
   "language": "python",
   "name": "python3"
  },
  "language_info": {
   "codemirror_mode": {
    "name": "ipython",
    "version": 3
   },
   "file_extension": ".py",
   "mimetype": "text/x-python",
   "name": "python",
   "nbconvert_exporter": "python",
   "pygments_lexer": "ipython3",
   "version": "3.9.13"
  },
  "orig_nbformat": 4
 },
 "nbformat": 4,
 "nbformat_minor": 2
}
