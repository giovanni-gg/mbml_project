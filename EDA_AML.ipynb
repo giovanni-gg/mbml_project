{
 "cells": [
  {
   "attachments": {},
   "cell_type": "markdown",
   "metadata": {},
   "source": [
    "# EDA"
   ]
  },
  {
   "cell_type": "code",
   "execution_count": 2,
   "metadata": {},
   "outputs": [],
   "source": [
    "import pandas as pd\n",
    "import seaborn as sns\n",
    "import matplotlib.pyplot as plt\n",
    "from scipy.stats import chi2_contingency\n"
   ]
  },
  {
   "attachments": {},
   "cell_type": "markdown",
   "metadata": {},
   "source": [
    "## Transactions Data Set"
   ]
  },
  {
   "cell_type": "code",
   "execution_count": 3,
   "metadata": {},
   "outputs": [],
   "source": [
    "df = pd.read_csv('data/HI-Small_Trans_adjusted.csv')\n",
    "\n",
    "def rename_columns(df):\n",
    "    new_cols = {}\n",
    "    for col in df.columns:\n",
    "        new_col = col.lower().replace(' ', '_')\n",
    "        new_cols[col] = new_col\n",
    "    return df.rename(columns=new_cols)\n",
    "\n",
    "\n",
    "df = rename_columns(df)\n",
    "# Rename the 'account' column to 'from_account'\n",
    "df = df.rename(columns={'account': 'from_account'})\n",
    "\n",
    "# Rename the 'account.1' column to 'to_account'\n",
    "df = df.rename(columns={'account.1': 'to_account'})\n",
    "\n",
    "df['timestamp'] = pd.to_datetime(df['timestamp'])\n",
    "# Extract the hour from the timestamp\n",
    "df['hour'] = df['timestamp'].dt.hour\n",
    "# Extract the day of the week from the timestamp (Monday=0, Sunday=6)\n",
    "df['day_of_week'] = df['timestamp'].dt.dayofweek\n",
    "# Extract the month from the timestamp\n",
    "df['month'] = df['timestamp'].dt.month\n",
    "# Extract day of the month from the timestamp \n",
    "df['day_of_month'] = df['timestamp'].dt.day\n"
   ]
  },
  {
   "cell_type": "code",
   "execution_count": 4,
   "metadata": {},
   "outputs": [
    {
     "data": {
      "text/html": [
       "<div>\n",
       "<style scoped>\n",
       "    .dataframe tbody tr th:only-of-type {\n",
       "        vertical-align: middle;\n",
       "    }\n",
       "\n",
       "    .dataframe tbody tr th {\n",
       "        vertical-align: top;\n",
       "    }\n",
       "\n",
       "    .dataframe thead th {\n",
       "        text-align: right;\n",
       "    }\n",
       "</style>\n",
       "<table border=\"1\" class=\"dataframe\">\n",
       "  <thead>\n",
       "    <tr style=\"text-align: right;\">\n",
       "      <th></th>\n",
       "      <th>timestamp</th>\n",
       "      <th>from_bank</th>\n",
       "      <th>from_account</th>\n",
       "      <th>to_bank</th>\n",
       "      <th>to_account</th>\n",
       "      <th>amount_received</th>\n",
       "      <th>receiving_currency</th>\n",
       "      <th>amount_paid</th>\n",
       "      <th>payment_currency</th>\n",
       "      <th>payment_format</th>\n",
       "      <th>is_laundering</th>\n",
       "      <th>hour</th>\n",
       "      <th>day_of_week</th>\n",
       "      <th>month</th>\n",
       "      <th>day_of_month</th>\n",
       "    </tr>\n",
       "  </thead>\n",
       "  <tbody>\n",
       "    <tr>\n",
       "      <th>0</th>\n",
       "      <td>2022-09-01 00:20:00</td>\n",
       "      <td>10</td>\n",
       "      <td>8000EBD30</td>\n",
       "      <td>10</td>\n",
       "      <td>8000EBD30</td>\n",
       "      <td>3697.34</td>\n",
       "      <td>US Dollar</td>\n",
       "      <td>3697.34</td>\n",
       "      <td>US Dollar</td>\n",
       "      <td>Reinvestment</td>\n",
       "      <td>0</td>\n",
       "      <td>0</td>\n",
       "      <td>3</td>\n",
       "      <td>9</td>\n",
       "      <td>1</td>\n",
       "    </tr>\n",
       "    <tr>\n",
       "      <th>1</th>\n",
       "      <td>2022-09-01 00:20:00</td>\n",
       "      <td>3208</td>\n",
       "      <td>8000F4580</td>\n",
       "      <td>1</td>\n",
       "      <td>8000F5340</td>\n",
       "      <td>0.01</td>\n",
       "      <td>US Dollar</td>\n",
       "      <td>0.01</td>\n",
       "      <td>US Dollar</td>\n",
       "      <td>Cheque</td>\n",
       "      <td>0</td>\n",
       "      <td>0</td>\n",
       "      <td>3</td>\n",
       "      <td>9</td>\n",
       "      <td>1</td>\n",
       "    </tr>\n",
       "    <tr>\n",
       "      <th>2</th>\n",
       "      <td>2022-09-01 00:00:00</td>\n",
       "      <td>3209</td>\n",
       "      <td>8000F4670</td>\n",
       "      <td>3209</td>\n",
       "      <td>8000F4670</td>\n",
       "      <td>14675.57</td>\n",
       "      <td>US Dollar</td>\n",
       "      <td>14675.57</td>\n",
       "      <td>US Dollar</td>\n",
       "      <td>Reinvestment</td>\n",
       "      <td>0</td>\n",
       "      <td>0</td>\n",
       "      <td>3</td>\n",
       "      <td>9</td>\n",
       "      <td>1</td>\n",
       "    </tr>\n",
       "    <tr>\n",
       "      <th>3</th>\n",
       "      <td>2022-09-01 00:02:00</td>\n",
       "      <td>12</td>\n",
       "      <td>8000F5030</td>\n",
       "      <td>12</td>\n",
       "      <td>8000F5030</td>\n",
       "      <td>2806.97</td>\n",
       "      <td>US Dollar</td>\n",
       "      <td>2806.97</td>\n",
       "      <td>US Dollar</td>\n",
       "      <td>Reinvestment</td>\n",
       "      <td>0</td>\n",
       "      <td>0</td>\n",
       "      <td>3</td>\n",
       "      <td>9</td>\n",
       "      <td>1</td>\n",
       "    </tr>\n",
       "    <tr>\n",
       "      <th>4</th>\n",
       "      <td>2022-09-01 00:06:00</td>\n",
       "      <td>10</td>\n",
       "      <td>8000F5200</td>\n",
       "      <td>10</td>\n",
       "      <td>8000F5200</td>\n",
       "      <td>36682.97</td>\n",
       "      <td>US Dollar</td>\n",
       "      <td>36682.97</td>\n",
       "      <td>US Dollar</td>\n",
       "      <td>Reinvestment</td>\n",
       "      <td>0</td>\n",
       "      <td>0</td>\n",
       "      <td>3</td>\n",
       "      <td>9</td>\n",
       "      <td>1</td>\n",
       "    </tr>\n",
       "  </tbody>\n",
       "</table>\n",
       "</div>"
      ],
      "text/plain": [
       "            timestamp  from_bank from_account  to_bank to_account  \\\n",
       "0 2022-09-01 00:20:00         10    8000EBD30       10  8000EBD30   \n",
       "1 2022-09-01 00:20:00       3208    8000F4580        1  8000F5340   \n",
       "2 2022-09-01 00:00:00       3209    8000F4670     3209  8000F4670   \n",
       "3 2022-09-01 00:02:00         12    8000F5030       12  8000F5030   \n",
       "4 2022-09-01 00:06:00         10    8000F5200       10  8000F5200   \n",
       "\n",
       "   amount_received receiving_currency  amount_paid payment_currency  \\\n",
       "0          3697.34          US Dollar      3697.34        US Dollar   \n",
       "1             0.01          US Dollar         0.01        US Dollar   \n",
       "2         14675.57          US Dollar     14675.57        US Dollar   \n",
       "3          2806.97          US Dollar      2806.97        US Dollar   \n",
       "4         36682.97          US Dollar     36682.97        US Dollar   \n",
       "\n",
       "  payment_format  is_laundering  hour  day_of_week  month  day_of_month  \n",
       "0   Reinvestment              0     0            3      9             1  \n",
       "1         Cheque              0     0            3      9             1  \n",
       "2   Reinvestment              0     0            3      9             1  \n",
       "3   Reinvestment              0     0            3      9             1  \n",
       "4   Reinvestment              0     0            3      9             1  "
      ]
     },
     "execution_count": 4,
     "metadata": {},
     "output_type": "execute_result"
    }
   ],
   "source": [
    "df.head()"
   ]
  },
  {
   "cell_type": "code",
   "execution_count": 5,
   "metadata": {},
   "outputs": [
    {
     "data": {
      "text/plain": [
       "day_of_month\n",
       "1     1114921\n",
       "2      754449\n",
       "3      207382\n",
       "4      207430\n",
       "5      482650\n",
       "6      482089\n",
       "7      482751\n",
       "8      482773\n",
       "9      160553\n",
       "10        290\n",
       "11        194\n",
       "12         57\n",
       "13          7\n",
       "14          8\n",
       "Name: timestamp, dtype: int64"
      ]
     },
     "execution_count": 5,
     "metadata": {},
     "output_type": "execute_result"
    }
   ],
   "source": [
    "# group by day_of_month and get number of rows\n",
    "df.groupby('day_of_month').count()['timestamp']"
   ]
  },
  {
   "cell_type": "code",
   "execution_count": 4,
   "metadata": {},
   "outputs": [],
   "source": [
    "# save the dataframe to a new csv file overwriting the old one\n",
    "# df.to_csv('data/HI-Small_Trans_adjusted.csv', index=False)"
   ]
  },
  {
   "cell_type": "code",
   "execution_count": 5,
   "metadata": {},
   "outputs": [
    {
     "name": "stdout",
     "output_type": "stream",
     "text": [
      "<class 'pandas.core.frame.DataFrame'>\n",
      "RangeIndex: 4375554 entries, 0 to 4375553\n",
      "Data columns (total 11 columns):\n",
      " #   Column              Dtype  \n",
      "---  ------              -----  \n",
      " 0   timestamp           object \n",
      " 1   from_bank           int64  \n",
      " 2   from_account        object \n",
      " 3   to_bank             int64  \n",
      " 4   to_account          object \n",
      " 5   amount_received     float64\n",
      " 6   receiving_currency  object \n",
      " 7   amount_paid         float64\n",
      " 8   payment_currency    object \n",
      " 9   payment_format      object \n",
      " 10  is_laundering       int64  \n",
      "dtypes: float64(2), int64(3), object(6)\n",
      "memory usage: 367.2+ MB\n"
     ]
    }
   ],
   "source": [
    "df.info()"
   ]
  },
  {
   "cell_type": "code",
   "execution_count": 6,
   "metadata": {},
   "outputs": [
    {
     "data": {
      "text/html": [
       "<div>\n",
       "<style scoped>\n",
       "    .dataframe tbody tr th:only-of-type {\n",
       "        vertical-align: middle;\n",
       "    }\n",
       "\n",
       "    .dataframe tbody tr th {\n",
       "        vertical-align: top;\n",
       "    }\n",
       "\n",
       "    .dataframe thead th {\n",
       "        text-align: right;\n",
       "    }\n",
       "</style>\n",
       "<table border=\"1\" class=\"dataframe\">\n",
       "  <thead>\n",
       "    <tr style=\"text-align: right;\">\n",
       "      <th></th>\n",
       "      <th>from_bank</th>\n",
       "      <th>to_bank</th>\n",
       "      <th>amount_received</th>\n",
       "      <th>amount_paid</th>\n",
       "      <th>is_laundering</th>\n",
       "    </tr>\n",
       "  </thead>\n",
       "  <tbody>\n",
       "    <tr>\n",
       "      <th>count</th>\n",
       "      <td>4.375554e+06</td>\n",
       "      <td>4.375554e+06</td>\n",
       "      <td>4.375554e+06</td>\n",
       "      <td>4.375554e+06</td>\n",
       "      <td>4.375554e+06</td>\n",
       "    </tr>\n",
       "    <tr>\n",
       "      <th>mean</th>\n",
       "      <td>4.504443e+04</td>\n",
       "      <td>6.593507e+04</td>\n",
       "      <td>6.024675e+06</td>\n",
       "      <td>4.601136e+06</td>\n",
       "      <td>9.543934e-04</td>\n",
       "    </tr>\n",
       "    <tr>\n",
       "      <th>std</th>\n",
       "      <td>8.023166e+04</td>\n",
       "      <td>8.437782e+04</td>\n",
       "      <td>1.028182e+09</td>\n",
       "      <td>8.833349e+08</td>\n",
       "      <td>3.087852e-02</td>\n",
       "    </tr>\n",
       "    <tr>\n",
       "      <th>min</th>\n",
       "      <td>1.000000e+00</td>\n",
       "      <td>1.000000e+00</td>\n",
       "      <td>1.000000e-06</td>\n",
       "      <td>1.000000e-06</td>\n",
       "      <td>0.000000e+00</td>\n",
       "    </tr>\n",
       "    <tr>\n",
       "      <th>25%</th>\n",
       "      <td>1.210000e+02</td>\n",
       "      <td>4.403000e+03</td>\n",
       "      <td>1.791800e+02</td>\n",
       "      <td>1.804600e+02</td>\n",
       "      <td>0.000000e+00</td>\n",
       "    </tr>\n",
       "    <tr>\n",
       "      <th>50%</th>\n",
       "      <td>1.005700e+04</td>\n",
       "      <td>2.157500e+04</td>\n",
       "      <td>1.435670e+03</td>\n",
       "      <td>1.439415e+03</td>\n",
       "      <td>0.000000e+00</td>\n",
       "    </tr>\n",
       "    <tr>\n",
       "      <th>75%</th>\n",
       "      <td>2.831700e+04</td>\n",
       "      <td>1.223320e+05</td>\n",
       "      <td>1.277631e+04</td>\n",
       "      <td>1.272508e+04</td>\n",
       "      <td>0.000000e+00</td>\n",
       "    </tr>\n",
       "    <tr>\n",
       "      <th>max</th>\n",
       "      <td>3.563030e+05</td>\n",
       "      <td>3.562940e+05</td>\n",
       "      <td>1.046302e+12</td>\n",
       "      <td>1.046302e+12</td>\n",
       "      <td>1.000000e+00</td>\n",
       "    </tr>\n",
       "  </tbody>\n",
       "</table>\n",
       "</div>"
      ],
      "text/plain": [
       "          from_bank       to_bank  amount_received   amount_paid  \\\n",
       "count  4.375554e+06  4.375554e+06     4.375554e+06  4.375554e+06   \n",
       "mean   4.504443e+04  6.593507e+04     6.024675e+06  4.601136e+06   \n",
       "std    8.023166e+04  8.437782e+04     1.028182e+09  8.833349e+08   \n",
       "min    1.000000e+00  1.000000e+00     1.000000e-06  1.000000e-06   \n",
       "25%    1.210000e+02  4.403000e+03     1.791800e+02  1.804600e+02   \n",
       "50%    1.005700e+04  2.157500e+04     1.435670e+03  1.439415e+03   \n",
       "75%    2.831700e+04  1.223320e+05     1.277631e+04  1.272508e+04   \n",
       "max    3.563030e+05  3.562940e+05     1.046302e+12  1.046302e+12   \n",
       "\n",
       "       is_laundering  \n",
       "count   4.375554e+06  \n",
       "mean    9.543934e-04  \n",
       "std     3.087852e-02  \n",
       "min     0.000000e+00  \n",
       "25%     0.000000e+00  \n",
       "50%     0.000000e+00  \n",
       "75%     0.000000e+00  \n",
       "max     1.000000e+00  "
      ]
     },
     "execution_count": 6,
     "metadata": {},
     "output_type": "execute_result"
    }
   ],
   "source": [
    "df.describe()"
   ]
  },
  {
   "cell_type": "code",
   "execution_count": 7,
   "metadata": {},
   "outputs": [
    {
     "name": "stdout",
     "output_type": "stream",
     "text": [
      "Null Values = False\n"
     ]
    }
   ],
   "source": [
    "'''Checking for any null values'''\n",
    "\n",
    "print('Null Values =',df.isnull().values.any())"
   ]
  },
  {
   "attachments": {},
   "cell_type": "markdown",
   "metadata": {},
   "source": [
    "### Payment_format deep dive"
   ]
  },
  {
   "cell_type": "code",
   "execution_count": 8,
   "metadata": {},
   "outputs": [
    {
     "name": "stdout",
     "output_type": "stream",
     "text": [
      "              payment_format  percentage_of_transaction\n",
      "Cheque               1578228                  36.069215\n",
      "Credit Card          1125878                  25.731096\n",
      "ACH                   502115                  11.475461\n",
      "Reinvestment          481056                  10.994174\n",
      "Cash                  415462                   9.495072\n",
      "Wire                  146948                   3.358386\n",
      "Bitcoin               125867                   2.876596\n"
     ]
    }
   ],
   "source": [
    "# Get the count and percentage of each payment format\n",
    "counts = df['payment_format'].value_counts().to_frame()\n",
    "counts['percentage_of_transaction'] = counts['payment_format'] / len(df) * 100\n",
    "print(counts)\n"
   ]
  },
  {
   "cell_type": "code",
   "execution_count": 9,
   "metadata": {},
   "outputs": [
    {
     "data": {
      "text/html": [
       "<div>\n",
       "<style scoped>\n",
       "    .dataframe tbody tr th:only-of-type {\n",
       "        vertical-align: middle;\n",
       "    }\n",
       "\n",
       "    .dataframe tbody tr th {\n",
       "        vertical-align: top;\n",
       "    }\n",
       "\n",
       "    .dataframe thead th {\n",
       "        text-align: right;\n",
       "    }\n",
       "</style>\n",
       "<table border=\"1\" class=\"dataframe\">\n",
       "  <thead>\n",
       "    <tr style=\"text-align: right;\">\n",
       "      <th></th>\n",
       "      <th>average_amount_paid</th>\n",
       "    </tr>\n",
       "  </thead>\n",
       "  <tbody>\n",
       "    <tr>\n",
       "      <th>Wire</th>\n",
       "      <td>34.004149</td>\n",
       "    </tr>\n",
       "    <tr>\n",
       "      <th>ACH</th>\n",
       "      <td>21.282938</td>\n",
       "    </tr>\n",
       "    <tr>\n",
       "      <th>Cash</th>\n",
       "      <td>17.546826</td>\n",
       "    </tr>\n",
       "    <tr>\n",
       "      <th>Reinvestment</th>\n",
       "      <td>5.394401</td>\n",
       "    </tr>\n",
       "    <tr>\n",
       "      <th>Cheque</th>\n",
       "      <td>3.876954</td>\n",
       "    </tr>\n",
       "    <tr>\n",
       "      <th>Credit Card</th>\n",
       "      <td>0.077772</td>\n",
       "    </tr>\n",
       "    <tr>\n",
       "      <th>Bitcoin</th>\n",
       "      <td>0.000260</td>\n",
       "    </tr>\n",
       "  </tbody>\n",
       "</table>\n",
       "</div>"
      ],
      "text/plain": [
       "              average_amount_paid\n",
       "Wire                    34.004149\n",
       "ACH                     21.282938\n",
       "Cash                    17.546826\n",
       "Reinvestment             5.394401\n",
       "Cheque                   3.876954\n",
       "Credit Card              0.077772\n",
       "Bitcoin                  0.000260"
      ]
     },
     "execution_count": 9,
     "metadata": {},
     "output_type": "execute_result"
    }
   ],
   "source": [
    "# Calculate the average amount paid per transaction for each payment format, and sort the results in descending order\n",
    "\n",
    "# Group the DataFrame by payment_format and calculate the mean payment amount for each group\n",
    "avg_amount = df.groupby('payment_format')['amount_paid'].mean()\n",
    "\n",
    "# Divide the mean payment amount by the number of transactions for each payment_format to get the average amount_paid per transaction\n",
    "num_transactions = df['payment_format'].value_counts()\n",
    "avg_amount_per_transaction = avg_amount / num_transactions\n",
    "\n",
    "# Convert the resulting Series into a DataFrame and sort it by the average amount_paid per transaction in descending order\n",
    "result_df = avg_amount_per_transaction.to_frame()\n",
    "\n",
    "# rename column name to 'average_amount_paid'\n",
    "result_df = result_df.rename(columns={0: 'average_amount_paid'})\n",
    "\n",
    "# sort the values in descending order\n",
    "result_df = result_df.sort_values(by='average_amount_paid', ascending=False)\n",
    "result_df"
   ]
  },
  {
   "attachments": {},
   "cell_type": "markdown",
   "metadata": {},
   "source": [
    "### Bank Deep Dive"
   ]
  },
  {
   "cell_type": "code",
   "execution_count": 10,
   "metadata": {},
   "outputs": [
    {
     "name": "stdout",
     "output_type": "stream",
     "text": [
      "     from_count  from_pct  to_count    to_pct\n",
      "70     383541.0  8.765541       NaN       NaN\n",
      "10      70155.0  1.603340   36599.0  0.836443\n",
      "12      68499.0  1.565493   36095.0  0.824924\n",
      "1       53382.0  1.220006   25878.0  0.591422\n",
      "15      45197.0  1.032943   33296.0  0.760955\n",
      "220     45044.0  1.029447   26260.0  0.600153\n",
      "20      35225.0  0.805041   19008.0  0.434414\n",
      "3       33178.0  0.758258   22082.0  0.504668\n",
      "7       26782.0  0.612082   19764.0  0.451691\n",
      "211     26414.0  0.603672   17664.0  0.403697\n",
      "28          NaN       NaN   18287.0  0.417936\n"
     ]
    }
   ],
   "source": [
    "# Get the count and percentage of transactions grouped by from_bank\n",
    "from_counts = df.groupby('from_bank').size().sort_values(ascending=False).head(10)\n",
    "from_pct = from_counts / len(df) * 100\n",
    "\n",
    "# Get the count and percentage of transactions grouped by to_bank\n",
    "to_counts = df.groupby('to_bank').size().sort_values(ascending=False).head(10)\n",
    "to_pct = to_counts / len(df) * 100\n",
    "\n",
    "# Combine the count and percentage results into a single DataFrame\n",
    "result_df = pd.concat([from_counts, from_pct, to_counts, to_pct], axis=1, keys=['from_count', 'from_pct', 'to_count', 'to_pct'])\n",
    "\n",
    "# Print the resulting DataFrame\n",
    "print(result_df)"
   ]
  },
  {
   "attachments": {},
   "cell_type": "markdown",
   "metadata": {},
   "source": [
    "### Bank Account Analyis"
   ]
  },
  {
   "cell_type": "code",
   "execution_count": 11,
   "metadata": {},
   "outputs": [
    {
     "name": "stdout",
     "output_type": "stream",
     "text": [
      "Distinct 'from_account' count: 495396\n",
      "Distinct 'to_account' count: 420334\n"
     ]
    }
   ],
   "source": [
    "# Get the count of distinct 'from_account' and 'to_account' values\n",
    "from_count = df['from_account'].nunique()\n",
    "to_count = df['to_account'].nunique()\n",
    "\n",
    "print(\"Distinct 'from_account' count:\", from_count)\n",
    "print(\"Distinct 'to_account' count:\", to_count)\n"
   ]
  },
  {
   "cell_type": "code",
   "execution_count": 12,
   "metadata": {},
   "outputs": [
    {
     "name": "stdout",
     "output_type": "stream",
     "text": [
      "Number of accounts in both 'from_account' and 'to_account': 401516\n",
      "Percentage of accounts in both 'from_account' and 'to_account': 78.08%\n"
     ]
    }
   ],
   "source": [
    "# Get the count and percentage of accounts that overlap between 'from_account' and 'to_account'\n",
    "from_set = set(df['from_account'].unique())\n",
    "to_set = set(df['to_account'].unique())\n",
    "overlap_count = len(from_set.intersection(to_set))\n",
    "\n",
    "total_count = len(from_set.union(to_set))\n",
    "\n",
    "overlap_pct = overlap_count / total_count * 100\n",
    "\n",
    "print(\"Number of accounts in both 'from_account' and 'to_account':\", overlap_count)\n",
    "print(\"Percentage of accounts in both 'from_account' and 'to_account': {:.2f}%\".format(overlap_pct))\n"
   ]
  },
  {
   "cell_type": "code",
   "execution_count": 13,
   "metadata": {},
   "outputs": [
    {
     "name": "stdout",
     "output_type": "stream",
     "text": [
      "Number of accounts not in both 'from_account' and 'to_account': 112698\n",
      "Percentage of accounts not in both 'from_account' and 'to_account': 21.92%\n"
     ]
    }
   ],
   "source": [
    "# Get the count and percentage of accounts that don't overlap between 'from_account' and 'to_account'\n",
    "from_set = set(df['from_account'].unique())\n",
    "to_set = set(df['to_account'].unique())\n",
    "non_overlap_count = len(from_set.symmetric_difference(to_set))\n",
    "\n",
    "total_count = len(from_set.union(to_set))\n",
    "\n",
    "non_overlap_pct = non_overlap_count / total_count * 100\n",
    "\n",
    "print(\"Number of accounts not in both 'from_account' and 'to_account':\", non_overlap_count)\n",
    "print(\"Percentage of accounts not in both 'from_account' and 'to_account': {:.2f}%\".format(non_overlap_pct))\n"
   ]
  },
  {
   "attachments": {},
   "cell_type": "markdown",
   "metadata": {},
   "source": [
    "### Check multicolinearity between variables \n",
    "\n",
    "Check if we need to remove features based on the high colinearity."
   ]
  },
  {
   "cell_type": "code",
   "execution_count": 14,
   "metadata": {},
   "outputs": [
    {
     "data": {
      "text/plain": [
       "<AxesSubplot:title={'center':'Correlation Matrix'}>"
      ]
     },
     "execution_count": 14,
     "metadata": {},
     "output_type": "execute_result"
    },
    {
     "data": {
      "image/png": "[encoded data removed]",
      "text/plain": [
       "<Figure size 1500x1500 with 2 Axes>"
      ]
     },
     "metadata": {},
     "output_type": "display_data"
    }
   ],
   "source": [
    "\n",
    "''' correlation matrix to check multicolinearity between variables '''\n",
    "\n",
    "correlation = df.corr()\n",
    "plt.figure(figsize=(15,15))\n",
    "plt.title('Correlation Matrix')\n",
    "sns.heatmap(correlation, vmax=1, square=True,annot=True,cmap='cubehelix')"
   ]
  },
  {
   "attachments": {},
   "cell_type": "markdown",
   "metadata": {},
   "source": [
    "### Is_laudering = 1 Analysis"
   ]
  },
  {
   "cell_type": "code",
   "execution_count": 32,
   "metadata": {},
   "outputs": [
    {
     "name": "stdout",
     "output_type": "stream",
     "text": [
      "0.09543934322373807\n",
      "             payment_format  percentage_of_transaction\n",
      "ACH                    3583                  85.799808\n",
      "Cheque                  275                   6.585249\n",
      "Credit Card             178                   4.262452\n",
      "Cash                     93                   2.227011\n",
      "Bitcoin                  47                   1.125479\n"
     ]
    }
   ],
   "source": [
    "# get rows where is_laudering is 1\n",
    "df_laundering = df[df['is_laundering'] == 1]\n",
    "\n",
    "# Get the count and percentage of each payment format\n",
    "counts = df_laundering['payment_format'].value_counts().to_frame()\n",
    "counts['percentage_of_transaction'] = counts['payment_format'] / len(df_laundering) * 100\n",
    "print(len(df_laundering) / len(df) * 100)\n",
    "print(counts)"
   ]
  },
  {
   "cell_type": "code",
   "execution_count": 33,
   "metadata": {},
   "outputs": [
    {
     "name": "stdout",
     "output_type": "stream",
     "text": [
      "              payment_format  percentage_of_transaction\n",
      "Cheque               1577953                  36.097382\n",
      "Credit Card          1125700                  25.751605\n",
      "ACH                   498532                  11.404459\n",
      "Reinvestment          481056                  11.004676\n",
      "Cash                  415369                   9.502015\n",
      "Wire                  146948                   3.361594\n",
      "Bitcoin               125820                   2.878269\n"
     ]
    }
   ],
   "source": [
    "# get rows where is_laudering is 0\n",
    "df_isNotlaundering = df[df['is_laundering'] == 0]\n",
    "\n",
    "# Get the count and percentage of each payment format\n",
    "counts = df_isNotlaundering['payment_format'].value_counts().to_frame()\n",
    "counts['percentage_of_transaction'] = counts['payment_format'] / len(df_isNotlaundering) * 100\n",
    "print(counts)"
   ]
  },
  {
   "attachments": {},
   "cell_type": "markdown",
   "metadata": {},
   "source": [
    "### Timestemp Analysis"
   ]
  },
  {
   "attachments": {},
   "cell_type": "markdown",
   "metadata": {},
   "source": [
    "#### Hourly Analysis"
   ]
  },
  {
   "cell_type": "code",
   "execution_count": 7,
   "metadata": {},
   "outputs": [],
   "source": [
    "import plotly.graph_objects as go"
   ]
  },
  {
   "cell_type": "code",
   "execution_count": 42,
   "metadata": {},
   "outputs": [
    {
     "data": {
      "application/vnd.plotly.v1+json": {
       "config": {
        "plotlyServerURL": "https://plot.ly"
       },
       "data": [
        {
         "name": "Legitimate",
         "type": "bar",
         "x": [
          0,
          1,
          2,
          3,
          4,
          5,
          6,
          7,
          8,
          9,
          10,
          11,
          12,
          13,
          14,
          15,
          16,
          17,
          18,
          19,
          20,
          21,
          22,
          23
         ],
         "y": [
          13.999429928045574,
          4.239143812317306,
          4.2274312585184814,
          4.232898642030042,
          4.222490024884602,
          3.9169570785230654,
          3.6441826810676177,
          3.6248295160015904,
          3.6018848061183455,
          3.6031429906084536,
          3.624898144246505,
          3.6311890666970466,
          3.614054881549937,
          3.617600674203878,
          3.6139633772233837,
          3.6591893906223625,
          3.6245550030219302,
          3.6125679362434453,
          3.614741163999087,
          3.616456870121962,
          3.624051729225887,
          3.6047900684864134,
          3.5971265811375726,
          3.6324243751055163
         ]
        },
        {
         "name": "Laundering",
         "type": "bar",
         "x": [
          0,
          1,
          2,
          3,
          4,
          5,
          6,
          7,
          8,
          9,
          10,
          11,
          12,
          13,
          14,
          15,
          16,
          17,
          18,
          19,
          20,
          21,
          22,
          23
         ],
         "y": [
          3.8314176245210727,
          3.2088122605363987,
          3.400383141762452,
          2.9454022988505746,
          3.1130268199233715,
          3.6877394636015324,
          3.9511494252873565,
          3.9750957854406135,
          4.956896551724138,
          4.262452107279693,
          4.238505747126436,
          5.459770114942529,
          6.4894636015325675,
          5.483716475095785,
          5.172413793103448,
          4.765325670498084,
          6.130268199233716,
          5.124521072796935,
          4.765325670498084,
          4.477969348659004,
          2.490421455938697,
          2.8975095785440614,
          2.3706896551724137,
          2.8017241379310347
         ]
        }
       ],
       "layout": {
        "barmode": "group",
        "template": {
         "data": {
          "bar": [
           {
            "error_x": {
             "color": "#2a3f5f"
            },
            "error_y": {
             "color": "#2a3f5f"
            },
            "marker": {
             "line": {
              "color": "#E5ECF6",
              "width": 0.5
             },
             "pattern": {
              "fillmode": "overlay",
              "size": 10,
              "solidity": 0.2
             }
            },
            "type": "bar"
           }
          ],
          "barpolar": [
           {
            "marker": {
             "line": {
              "color": "#E5ECF6",
              "width": 0.5
             },
             "pattern": {
              "fillmode": "overlay",
              "size": 10,
              "solidity": 0.2
             }
            },
            "type": "barpolar"
           }
          ],
          "carpet": [
           {
            "aaxis": {
             "endlinecolor": "#2a3f5f",
             "gridcolor": "white",
             "linecolor": "white",
             "minorgridcolor": "white",
             "startlinecolor": "#2a3f5f"
            },
            "baxis": {
             "endlinecolor": "#2a3f5f",
             "gridcolor": "white",
             "linecolor": "white",
             "minorgridcolor": "white",
             "startlinecolor": "#2a3f5f"
            },
            "type": "carpet"
           }
          ],
          "choropleth": [
           {
            "colorbar": {
             "outlinewidth": 0,
             "ticks": ""
            },
            "type": "choropleth"
           }
          ],
          "contour": [
           {
            "colorbar": {
             "outlinewidth": 0,
             "ticks": ""
            },
            "colorscale": [
             [
              0,
              "#0d0887"
             ],
             [
              0.1111111111111111,
              "#46039f"
             ],
             [
              0.2222222222222222,
              "#7201a8"
             ],
             [
              0.3333333333333333,
              "#9c179e"
             ],
             [
              0.4444444444444444,
              "#bd3786"
             ],
             [
              0.5555555555555556,
              "#d8576b"
             ],
             [
              0.6666666666666666,
              "#ed7953"
             ],
             [
              0.7777777777777778,
              "#fb9f3a"
             ],
             [
              0.8888888888888888,
              "#fdca26"
             ],
             [
              1,
              "#f0f921"
             ]
            ],
            "type": "contour"
           }
          ],
          "contourcarpet": [
           {
            "colorbar": {
             "outlinewidth": 0,
             "ticks": ""
            },
            "type": "contourcarpet"
           }
          ],
          "heatmap": [
           {
            "colorbar": {
             "outlinewidth": 0,
             "ticks": ""
            },
            "colorscale": [
             [
              0,
              "#0d0887"
             ],
             [
              0.1111111111111111,
              "#46039f"
             ],
             [
              0.2222222222222222,
              "#7201a8"
             ],
             [
              0.3333333333333333,
              "#9c179e"
             ],
             [
              0.4444444444444444,
              "#bd3786"
             ],
             [
              0.5555555555555556,
              "#d8576b"
             ],
             [
              0.6666666666666666,
              "#ed7953"
             ],
             [
              0.7777777777777778,
              "#fb9f3a"
             ],
             [
              0.8888888888888888,
              "#fdca26"
             ],
             [
              1,
              "#f0f921"
             ]
            ],
            "type": "heatmap"
           }
          ],
          "heatmapgl": [
           {
            "colorbar": {
             "outlinewidth": 0,
             "ticks": ""
            },
            "colorscale": [
             [
              0,
              "#0d0887"
             ],
             [
              0.1111111111111111,
              "#46039f"
             ],
             [
              0.2222222222222222,
              "#7201a8"
             ],
             [
              0.3333333333333333,
              "#9c179e"
             ],
             [
              0.4444444444444444,
              "#bd3786"
             ],
             [
              0.5555555555555556,
              "#d8576b"
             ],
             [
              0.6666666666666666,
              "#ed7953"
             ],
             [
              0.7777777777777778,
              "#fb9f3a"
             ],
             [
              0.8888888888888888,
              "#fdca26"
             ],
             [
              1,
              "#f0f921"
             ]
            ],
            "type": "heatmapgl"
           }
          ],
          "histogram": [
           {
            "marker": {
             "pattern": {
              "fillmode": "overlay",
              "size": 10,
              "solidity": 0.2
             }
            },
            "type": "histogram"
           }
          ],
          "histogram2d": [
           {
            "colorbar": {
             "outlinewidth": 0,
             "ticks": ""
            },
            "colorscale": [
             [
              0,
              "#0d0887"
             ],
             [
              0.1111111111111111,
              "#46039f"
             ],
             [
              0.2222222222222222,
              "#7201a8"
             ],
             [
              0.3333333333333333,
              "#9c179e"
             ],
             [
              0.4444444444444444,
              "#bd3786"
             ],
             [
              0.5555555555555556,
              "#d8576b"
             ],
             [
              0.6666666666666666,
              "#ed7953"
             ],
             [
              0.7777777777777778,
              "#fb9f3a"
             ],
             [
              0.8888888888888888,
              "#fdca26"
             ],
             [
              1,
              "#f0f921"
             ]
            ],
            "type": "histogram2d"
           }
          ],
          "histogram2dcontour": [
           {
            "colorbar": {
             "outlinewidth": 0,
             "ticks": ""
            },
            "colorscale": [
             [
              0,
              "#0d0887"
             ],
             [
              0.1111111111111111,
              "#46039f"
             ],
             [
              0.2222222222222222,
              "#7201a8"
             ],
             [
              0.3333333333333333,
              "#9c179e"
             ],
             [
              0.4444444444444444,
              "#bd3786"
             ],
             [
              0.5555555555555556,
              "#d8576b"
             ],
             [
              0.6666666666666666,
              "#ed7953"
             ],
             [
              0.7777777777777778,
              "#fb9f3a"
             ],
             [
              0.8888888888888888,
              "#fdca26"
             ],
             [
              1,
              "#f0f921"
             ]
            ],
            "type": "histogram2dcontour"
           }
          ],
          "mesh3d": [
           {
            "colorbar": {
             "outlinewidth": 0,
             "ticks": ""
            },
            "type": "mesh3d"
           }
          ],
          "parcoords": [
           {
            "line": {
             "colorbar": {
              "outlinewidth": 0,
              "ticks": ""
             }
            },
            "type": "parcoords"
           }
          ],
          "pie": [
           {
            "automargin": true,
            "type": "pie"
           }
          ],
          "scatter": [
           {
            "fillpattern": {
             "fillmode": "overlay",
             "size": 10,
             "solidity": 0.2
            },
            "type": "scatter"
           }
          ],
          "scatter3d": [
           {
            "line": {
             "colorbar": {
              "outlinewidth": 0,
              "ticks": ""
             }
            },
            "marker": {
             "colorbar": {
              "outlinewidth": 0,
              "ticks": ""
             }
            },
            "type": "scatter3d"
           }
          ],
          "scattercarpet": [
           {
            "marker": {
             "colorbar": {
              "outlinewidth": 0,
              "ticks": ""
             }
            },
            "type": "scattercarpet"
           }
          ],
          "scattergeo": [
           {
            "marker": {
             "colorbar": {
              "outlinewidth": 0,
              "ticks": ""
             }
            },
            "type": "scattergeo"
           }
          ],
          "scattergl": [
           {
            "marker": {
             "colorbar": {
              "outlinewidth": 0,
              "ticks": ""
             }
            },
            "type": "scattergl"
           }
          ],
          "scattermapbox": [
           {
            "marker": {
             "colorbar": {
              "outlinewidth": 0,
              "ticks": ""
             }
            },
            "type": "scattermapbox"
           }
          ],
          "scatterpolar": [
           {
            "marker": {
             "colorbar": {
              "outlinewidth": 0,
              "ticks": ""
             }
            },
            "type": "scatterpolar"
           }
          ],
          "scatterpolargl": [
           {
            "marker": {
             "colorbar": {
              "outlinewidth": 0,
              "ticks": ""
             }
            },
            "type": "scatterpolargl"
           }
          ],
          "scatterternary": [
           {
            "marker": {
             "colorbar": {
              "outlinewidth": 0,
              "ticks": ""
             }
            },
            "type": "scatterternary"
           }
          ],
          "surface": [
           {
            "colorbar": {
             "outlinewidth": 0,
             "ticks": ""
            },
            "colorscale": [
             [
              0,
              "#0d0887"
             ],
             [
              0.1111111111111111,
              "#46039f"
             ],
             [
              0.2222222222222222,
              "#7201a8"
             ],
             [
              0.3333333333333333,
              "#9c179e"
             ],
             [
              0.4444444444444444,
              "#bd3786"
             ],
             [
              0.5555555555555556,
              "#d8576b"
             ],
             [
              0.6666666666666666,
              "#ed7953"
             ],
             [
              0.7777777777777778,
              "#fb9f3a"
             ],
             [
              0.8888888888888888,
              "#fdca26"
             ],
             [
              1,
              "#f0f921"
             ]
            ],
            "type": "surface"
           }
          ],
          "table": [
           {
            "cells": {
             "fill": {
              "color": "#EBF0F8"
             },
             "line": {
              "color": "white"
             }
            },
            "header": {
             "fill": {
              "color": "#C8D4E3"
             },
             "line": {
              "color": "white"
             }
            },
            "type": "table"
           }
          ]
         },
         "layout": {
          "annotationdefaults": {
           "arrowcolor": "#2a3f5f",
           "arrowhead": 0,
           "arrowwidth": 1
          },
          "autotypenumbers": "strict",
          "coloraxis": {
           "colorbar": {
            "outlinewidth": 0,
            "ticks": ""
           }
          },
          "colorscale": {
           "diverging": [
            [
             0,
             "#8e0152"
            ],
            [
             0.1,
             "#c51b7d"
            ],
            [
             0.2,
             "#de77ae"
            ],
            [
             0.3,
             "#f1b6da"
            ],
            [
             0.4,
             "#fde0ef"
            ],
            [
             0.5,
             "#f7f7f7"
            ],
            [
             0.6,
             "#e6f5d0"
            ],
            [
             0.7,
             "#b8e186"
            ],
            [
             0.8,
             "#7fbc41"
            ],
            [
             0.9,
             "#4d9221"
            ],
            [
             1,
             "#276419"
            ]
           ],
           "sequential": [
            [
             0,
             "#0d0887"
            ],
            [
             0.1111111111111111,
             "#46039f"
            ],
            [
             0.2222222222222222,
             "#7201a8"
            ],
            [
             0.3333333333333333,
             "#9c179e"
            ],
            [
             0.4444444444444444,
             "#bd3786"
            ],
            [
             0.5555555555555556,
             "#d8576b"
            ],
            [
             0.6666666666666666,
             "#ed7953"
            ],
            [
             0.7777777777777778,
             "#fb9f3a"
            ],
            [
             0.8888888888888888,
             "#fdca26"
            ],
            [
             1,
             "#f0f921"
            ]
           ],
           "sequentialminus": [
            [
             0,
             "#0d0887"
            ],
            [
             0.1111111111111111,
             "#46039f"
            ],
            [
             0.2222222222222222,
             "#7201a8"
            ],
            [
             0.3333333333333333,
             "#9c179e"
            ],
            [
             0.4444444444444444,
             "#bd3786"
            ],
            [
             0.5555555555555556,
             "#d8576b"
            ],
            [
             0.6666666666666666,
             "#ed7953"
            ],
            [
             0.7777777777777778,
             "#fb9f3a"
            ],
            [
             0.8888888888888888,
             "#fdca26"
            ],
            [
             1,
             "#f0f921"
            ]
           ]
          },
          "colorway": [
           "#636efa",
           "#EF553B",
           "#00cc96",
           "#ab63fa",
           "#FFA15A",
           "#19d3f3",
           "#FF6692",
           "#B6E880",
           "#FF97FF",
           "#FECB52"
          ],
          "font": {
           "color": "#2a3f5f"
          },
          "geo": {
           "bgcolor": "white",
           "lakecolor": "white",
           "landcolor": "#E5ECF6",
           "showlakes": true,
           "showland": true,
           "subunitcolor": "white"
          },
          "hoverlabel": {
           "align": "left"
          },
          "hovermode": "closest",
          "mapbox": {
           "style": "light"
          },
          "paper_bgcolor": "white",
          "plot_bgcolor": "#E5ECF6",
          "polar": {
           "angularaxis": {
            "gridcolor": "white",
            "linecolor": "white",
            "ticks": ""
           },
           "bgcolor": "#E5ECF6",
           "radialaxis": {
            "gridcolor": "white",
            "linecolor": "white",
            "ticks": ""
           }
          },
          "scene": {
           "xaxis": {
            "backgroundcolor": "#E5ECF6",
            "gridcolor": "white",
            "gridwidth": 2,
            "linecolor": "white",
            "showbackground": true,
            "ticks": "",
            "zerolinecolor": "white"
           },
           "yaxis": {
            "backgroundcolor": "#E5ECF6",
            "gridcolor": "white",
            "gridwidth": 2,
            "linecolor": "white",
            "showbackground": true,
            "ticks": "",
            "zerolinecolor": "white"
           },
           "zaxis": {
            "backgroundcolor": "#E5ECF6",
            "gridcolor": "white",
            "gridwidth": 2,
            "linecolor": "white",
            "showbackground": true,
            "ticks": "",
            "zerolinecolor": "white"
           }
          },
          "shapedefaults": {
           "line": {
            "color": "#2a3f5f"
           }
          },
          "ternary": {
           "aaxis": {
            "gridcolor": "white",
            "linecolor": "white",
            "ticks": ""
           },
           "baxis": {
            "gridcolor": "white",
            "linecolor": "white",
            "ticks": ""
           },
           "bgcolor": "#E5ECF6",
           "caxis": {
            "gridcolor": "white",
            "linecolor": "white",
            "ticks": ""
           }
          },
          "title": {
           "x": 0.05
          },
          "xaxis": {
           "automargin": true,
           "gridcolor": "white",
           "linecolor": "white",
           "ticks": "",
           "title": {
            "standoff": 15
           },
           "zerolinecolor": "white",
           "zerolinewidth": 2
          },
          "yaxis": {
           "automargin": true,
           "gridcolor": "white",
           "linecolor": "white",
           "ticks": "",
           "title": {
            "standoff": 15
           },
           "zerolinecolor": "white",
           "zerolinewidth": 2
          }
         }
        },
        "title": {
         "text": "Percentage of Transactions per Hour by Laundering Status"
        },
        "xaxis": {
         "title": {
          "text": "Hour of the Day"
         }
        },
        "yaxis": {
         "title": {
          "text": "Percentage of Transactions within Each Group"
         }
        }
       }
      }
     },
     "metadata": {},
     "output_type": "display_data"
    }
   ],
   "source": [
    "# Calculate the number of transactions per hour for each laundering status (0: legitimate, 1: laundering)\n",
    "transactions_by_hour = df.groupby(['hour', 'is_laundering']).size().unstack()\n",
    "\n",
    "# Calculate the percentage of transactions per hour within each laundering status\n",
    "transactions_by_hour_pct = transactions_by_hour.div(transactions_by_hour.sum(axis=0), axis=1) * 100\n",
    "\n",
    "# Create a Plotly bar chart to visualize the data\n",
    "fig = go.Figure()\n",
    "\n",
    "fig.add_trace(go.Bar(x=transactions_by_hour_pct.index, y=transactions_by_hour_pct[0], name='Legitimate'))\n",
    "fig.add_trace(go.Bar(x=transactions_by_hour_pct.index, y=transactions_by_hour_pct[1], name='Laundering'))\n",
    "\n",
    "fig.update_layout(barmode='group', title='Percentage of Transactions per Hour by Laundering Status',\n",
    "                  xaxis_title='Hour of the Day', yaxis_title='Percentage of Transactions within Each Group')\n",
    "\n",
    "fig.show()"
   ]
  },
  {
   "attachments": {},
   "cell_type": "markdown",
   "metadata": {},
   "source": [
    "##### Chi-Square Test"
   ]
  },
  {
   "attachments": {},
   "cell_type": "markdown",
   "metadata": {},
   "source": [
    "Based on this test, there is a significant relationship between the hour of the day and the likelihood of a transaction being laundering. This information can be used to create new features for your classification model, such as a binary feature indicating whether a transaction occurred during hours with a higher likelihood of laundering."
   ]
  },
  {
   "cell_type": "code",
   "execution_count": 50,
   "metadata": {},
   "outputs": [
    {
     "name": "stdout",
     "output_type": "stream",
     "text": [
      "Chi-square statistic: 772.0075395568896\n",
      "P-value: 2.859717942803346e-148\n"
     ]
    }
   ],
   "source": [
    "# Calculate the number of transactions per hour for each laundering status (0: legitimate, 1: laundering)\n",
    "transactions_by_hour = df.groupby(['hour', 'is_laundering']).size().unstack().fillna(0)\n",
    "\n",
    "# Perform the Chi-square test for independence\n",
    "chi2, p_value, _, _ = chi2_contingency(transactions_by_hour)\n",
    "\n",
    "print(f\"Chi-square statistic: {chi2}\")\n",
    "print(f\"P-value: {p_value}\")\n"
   ]
  },
  {
   "attachments": {},
   "cell_type": "markdown",
   "metadata": {},
   "source": [
    "#### Day Analysis"
   ]
  },
  {
   "cell_type": "code",
   "execution_count": 44,
   "metadata": {},
   "outputs": [
    {
     "data": {
      "application/vnd.plotly.v1+json": {
       "config": {
        "plotlyServerURL": "https://plot.ly"
       },
       "data": [
        {
         "name": "Legitimate",
         "type": "bar",
         "x": [
          0,
          1,
          2,
          3,
          4,
          5,
          6
         ],
         "y": [
          11.03080081383948,
          11.016205873754226,
          11.032127626574503,
          36.52928207077951,
          20.91583020274156,
          4.738025400686007,
          4.73772801162471
         ]
        },
        {
         "name": "Laundering",
         "type": "bar",
         "x": [
          0,
          1,
          2,
          3,
          4,
          5,
          6
         ],
         "y": [
          12.188697318007662,
          12.835249042145595,
          12.045019157088124,
          20.617816091954023,
          16.57088122605364,
          13.290229885057473,
          12.452107279693486
         ]
        }
       ],
       "layout": {
        "barmode": "group",
        "template": {
         "data": {
          "bar": [
           {
            "error_x": {
             "color": "#2a3f5f"
            },
            "error_y": {
             "color": "#2a3f5f"
            },
            "marker": {
             "line": {
              "color": "#E5ECF6",
              "width": 0.5
             },
             "pattern": {
              "fillmode": "overlay",
              "size": 10,
              "solidity": 0.2
             }
            },
            "type": "bar"
           }
          ],
          "barpolar": [
           {
            "marker": {
             "line": {
              "color": "#E5ECF6",
              "width": 0.5
             },
             "pattern": {
              "fillmode": "overlay",
              "size": 10,
              "solidity": 0.2
             }
            },
            "type": "barpolar"
           }
          ],
          "carpet": [
           {
            "aaxis": {
             "endlinecolor": "#2a3f5f",
             "gridcolor": "white",
             "linecolor": "white",
             "minorgridcolor": "white",
             "startlinecolor": "#2a3f5f"
            },
            "baxis": {
             "endlinecolor": "#2a3f5f",
             "gridcolor": "white",
             "linecolor": "white",
             "minorgridcolor": "white",
             "startlinecolor": "#2a3f5f"
            },
            "type": "carpet"
           }
          ],
          "choropleth": [
           {
            "colorbar": {
             "outlinewidth": 0,
             "ticks": ""
            },
            "type": "choropleth"
           }
          ],
          "contour": [
           {
            "colorbar": {
             "outlinewidth": 0,
             "ticks": ""
            },
            "colorscale": [
             [
              0,
              "#0d0887"
             ],
             [
              0.1111111111111111,
              "#46039f"
             ],
             [
              0.2222222222222222,
              "#7201a8"
             ],
             [
              0.3333333333333333,
              "#9c179e"
             ],
             [
              0.4444444444444444,
              "#bd3786"
             ],
             [
              0.5555555555555556,
              "#d8576b"
             ],
             [
              0.6666666666666666,
              "#ed7953"
             ],
             [
              0.7777777777777778,
              "#fb9f3a"
             ],
             [
              0.8888888888888888,
              "#fdca26"
             ],
             [
              1,
              "#f0f921"
             ]
            ],
            "type": "contour"
           }
          ],
          "contourcarpet": [
           {
            "colorbar": {
             "outlinewidth": 0,
             "ticks": ""
            },
            "type": "contourcarpet"
           }
          ],
          "heatmap": [
           {
            "colorbar": {
             "outlinewidth": 0,
             "ticks": ""
            },
            "colorscale": [
             [
              0,
              "#0d0887"
             ],
             [
              0.1111111111111111,
              "#46039f"
             ],
             [
              0.2222222222222222,
              "#7201a8"
             ],
             [
              0.3333333333333333,
              "#9c179e"
             ],
             [
              0.4444444444444444,
              "#bd3786"
             ],
             [
              0.5555555555555556,
              "#d8576b"
             ],
             [
              0.6666666666666666,
              "#ed7953"
             ],
             [
              0.7777777777777778,
              "#fb9f3a"
             ],
             [
              0.8888888888888888,
              "#fdca26"
             ],
             [
              1,
              "#f0f921"
             ]
            ],
            "type": "heatmap"
           }
          ],
          "heatmapgl": [
           {
            "colorbar": {
             "outlinewidth": 0,
             "ticks": ""
            },
            "colorscale": [
             [
              0,
              "#0d0887"
             ],
             [
              0.1111111111111111,
              "#46039f"
             ],
             [
              0.2222222222222222,
              "#7201a8"
             ],
             [
              0.3333333333333333,
              "#9c179e"
             ],
             [
              0.4444444444444444,
              "#bd3786"
             ],
             [
              0.5555555555555556,
              "#d8576b"
             ],
             [
              0.6666666666666666,
              "#ed7953"
             ],
             [
              0.7777777777777778,
              "#fb9f3a"
             ],
             [
              0.8888888888888888,
              "#fdca26"
             ],
             [
              1,
              "#f0f921"
             ]
            ],
            "type": "heatmapgl"
           }
          ],
          "histogram": [
           {
            "marker": {
             "pattern": {
              "fillmode": "overlay",
              "size": 10,
              "solidity": 0.2
             }
            },
            "type": "histogram"
           }
          ],
          "histogram2d": [
           {
            "colorbar": {
             "outlinewidth": 0,
             "ticks": ""
            },
            "colorscale": [
             [
              0,
              "#0d0887"
             ],
             [
              0.1111111111111111,
              "#46039f"
             ],
             [
              0.2222222222222222,
              "#7201a8"
             ],
             [
              0.3333333333333333,
              "#9c179e"
             ],
             [
              0.4444444444444444,
              "#bd3786"
             ],
             [
              0.5555555555555556,
              "#d8576b"
             ],
             [
              0.6666666666666666,
              "#ed7953"
             ],
             [
              0.7777777777777778,
              "#fb9f3a"
             ],
             [
              0.8888888888888888,
              "#fdca26"
             ],
             [
              1,
              "#f0f921"
             ]
            ],
            "type": "histogram2d"
           }
          ],
          "histogram2dcontour": [
           {
            "colorbar": {
             "outlinewidth": 0,
             "ticks": ""
            },
            "colorscale": [
             [
              0,
              "#0d0887"
             ],
             [
              0.1111111111111111,
              "#46039f"
             ],
             [
              0.2222222222222222,
              "#7201a8"
             ],
             [
              0.3333333333333333,
              "#9c179e"
             ],
             [
              0.4444444444444444,
              "#bd3786"
             ],
             [
              0.5555555555555556,
              "#d8576b"
             ],
             [
              0.6666666666666666,
              "#ed7953"
             ],
             [
              0.7777777777777778,
              "#fb9f3a"
             ],
             [
              0.8888888888888888,
              "#fdca26"
             ],
             [
              1,
              "#f0f921"
             ]
            ],
            "type": "histogram2dcontour"
           }
          ],
          "mesh3d": [
           {
            "colorbar": {
             "outlinewidth": 0,
             "ticks": ""
            },
            "type": "mesh3d"
           }
          ],
          "parcoords": [
           {
            "line": {
             "colorbar": {
              "outlinewidth": 0,
              "ticks": ""
             }
            },
            "type": "parcoords"
           }
          ],
          "pie": [
           {
            "automargin": true,
            "type": "pie"
           }
          ],
          "scatter": [
           {
            "fillpattern": {
             "fillmode": "overlay",
             "size": 10,
             "solidity": 0.2
            },
            "type": "scatter"
           }
          ],
          "scatter3d": [
           {
            "line": {
             "colorbar": {
              "outlinewidth": 0,
              "ticks": ""
             }
            },
            "marker": {
             "colorbar": {
              "outlinewidth": 0,
              "ticks": ""
             }
            },
            "type": "scatter3d"
           }
          ],
          "scattercarpet": [
           {
            "marker": {
             "colorbar": {
              "outlinewidth": 0,
              "ticks": ""
             }
            },
            "type": "scattercarpet"
           }
          ],
          "scattergeo": [
           {
            "marker": {
             "colorbar": {
              "outlinewidth": 0,
              "ticks": ""
             }
            },
            "type": "scattergeo"
           }
          ],
          "scattergl": [
           {
            "marker": {
             "colorbar": {
              "outlinewidth": 0,
              "ticks": ""
             }
            },
            "type": "scattergl"
           }
          ],
          "scattermapbox": [
           {
            "marker": {
             "colorbar": {
              "outlinewidth": 0,
              "ticks": ""
             }
            },
            "type": "scattermapbox"
           }
          ],
          "scatterpolar": [
           {
            "marker": {
             "colorbar": {
              "outlinewidth": 0,
              "ticks": ""
             }
            },
            "type": "scatterpolar"
           }
          ],
          "scatterpolargl": [
           {
            "marker": {
             "colorbar": {
              "outlinewidth": 0,
              "ticks": ""
             }
            },
            "type": "scatterpolargl"
           }
          ],
          "scatterternary": [
           {
            "marker": {
             "colorbar": {
              "outlinewidth": 0,
              "ticks": ""
             }
            },
            "type": "scatterternary"
           }
          ],
          "surface": [
           {
            "colorbar": {
             "outlinewidth": 0,
             "ticks": ""
            },
            "colorscale": [
             [
              0,
              "#0d0887"
             ],
             [
              0.1111111111111111,
              "#46039f"
             ],
             [
              0.2222222222222222,
              "#7201a8"
             ],
             [
              0.3333333333333333,
              "#9c179e"
             ],
             [
              0.4444444444444444,
              "#bd3786"
             ],
             [
              0.5555555555555556,
              "#d8576b"
             ],
             [
              0.6666666666666666,
              "#ed7953"
             ],
             [
              0.7777777777777778,
              "#fb9f3a"
             ],
             [
              0.8888888888888888,
              "#fdca26"
             ],
             [
              1,
              "#f0f921"
             ]
            ],
            "type": "surface"
           }
          ],
          "table": [
           {
            "cells": {
             "fill": {
              "color": "#EBF0F8"
             },
             "line": {
              "color": "white"
             }
            },
            "header": {
             "fill": {
              "color": "#C8D4E3"
             },
             "line": {
              "color": "white"
             }
            },
            "type": "table"
           }
          ]
         },
         "layout": {
          "annotationdefaults": {
           "arrowcolor": "#2a3f5f",
           "arrowhead": 0,
           "arrowwidth": 1
          },
          "autotypenumbers": "strict",
          "coloraxis": {
           "colorbar": {
            "outlinewidth": 0,
            "ticks": ""
           }
          },
          "colorscale": {
           "diverging": [
            [
             0,
             "#8e0152"
            ],
            [
             0.1,
             "#c51b7d"
            ],
            [
             0.2,
             "#de77ae"
            ],
            [
             0.3,
             "#f1b6da"
            ],
            [
             0.4,
             "#fde0ef"
            ],
            [
             0.5,
             "#f7f7f7"
            ],
            [
             0.6,
             "#e6f5d0"
            ],
            [
             0.7,
             "#b8e186"
            ],
            [
             0.8,
             "#7fbc41"
            ],
            [
             0.9,
             "#4d9221"
            ],
            [
             1,
             "#276419"
            ]
           ],
           "sequential": [
            [
             0,
             "#0d0887"
            ],
            [
             0.1111111111111111,
             "#46039f"
            ],
            [
             0.2222222222222222,
             "#7201a8"
            ],
            [
             0.3333333333333333,
             "#9c179e"
            ],
            [
             0.4444444444444444,
             "#bd3786"
            ],
            [
             0.5555555555555556,
             "#d8576b"
            ],
            [
             0.6666666666666666,
             "#ed7953"
            ],
            [
             0.7777777777777778,
             "#fb9f3a"
            ],
            [
             0.8888888888888888,
             "#fdca26"
            ],
            [
             1,
             "#f0f921"
            ]
           ],
           "sequentialminus": [
            [
             0,
             "#0d0887"
            ],
            [
             0.1111111111111111,
             "#46039f"
            ],
            [
             0.2222222222222222,
             "#7201a8"
            ],
            [
             0.3333333333333333,
             "#9c179e"
            ],
            [
             0.4444444444444444,
             "#bd3786"
            ],
            [
             0.5555555555555556,
             "#d8576b"
            ],
            [
             0.6666666666666666,
             "#ed7953"
            ],
            [
             0.7777777777777778,
             "#fb9f3a"
            ],
            [
             0.8888888888888888,
             "#fdca26"
            ],
            [
             1,
             "#f0f921"
            ]
           ]
          },
          "colorway": [
           "#636efa",
           "#EF553B",
           "#00cc96",
           "#ab63fa",
           "#FFA15A",
           "#19d3f3",
           "#FF6692",
           "#B6E880",
           "#FF97FF",
           "#FECB52"
          ],
          "font": {
           "color": "#2a3f5f"
          },
          "geo": {
           "bgcolor": "white",
           "lakecolor": "white",
           "landcolor": "#E5ECF6",
           "showlakes": true,
           "showland": true,
           "subunitcolor": "white"
          },
          "hoverlabel": {
           "align": "left"
          },
          "hovermode": "closest",
          "mapbox": {
           "style": "light"
          },
          "paper_bgcolor": "white",
          "plot_bgcolor": "#E5ECF6",
          "polar": {
           "angularaxis": {
            "gridcolor": "white",
            "linecolor": "white",
            "ticks": ""
           },
           "bgcolor": "#E5ECF6",
           "radialaxis": {
            "gridcolor": "white",
            "linecolor": "white",
            "ticks": ""
           }
          },
          "scene": {
           "xaxis": {
            "backgroundcolor": "#E5ECF6",
            "gridcolor": "white",
            "gridwidth": 2,
            "linecolor": "white",
            "showbackground": true,
            "ticks": "",
            "zerolinecolor": "white"
           },
           "yaxis": {
            "backgroundcolor": "#E5ECF6",
            "gridcolor": "white",
            "gridwidth": 2,
            "linecolor": "white",
            "showbackground": true,
            "ticks": "",
            "zerolinecolor": "white"
           },
           "zaxis": {
            "backgroundcolor": "#E5ECF6",
            "gridcolor": "white",
            "gridwidth": 2,
            "linecolor": "white",
            "showbackground": true,
            "ticks": "",
            "zerolinecolor": "white"
           }
          },
          "shapedefaults": {
           "line": {
            "color": "#2a3f5f"
           }
          },
          "ternary": {
           "aaxis": {
            "gridcolor": "white",
            "linecolor": "white",
            "ticks": ""
           },
           "baxis": {
            "gridcolor": "white",
            "linecolor": "white",
            "ticks": ""
           },
           "bgcolor": "#E5ECF6",
           "caxis": {
            "gridcolor": "white",
            "linecolor": "white",
            "ticks": ""
           }
          },
          "title": {
           "x": 0.05
          },
          "xaxis": {
           "automargin": true,
           "gridcolor": "white",
           "linecolor": "white",
           "ticks": "",
           "title": {
            "standoff": 15
           },
           "zerolinecolor": "white",
           "zerolinewidth": 2
          },
          "yaxis": {
           "automargin": true,
           "gridcolor": "white",
           "linecolor": "white",
           "ticks": "",
           "title": {
            "standoff": 15
           },
           "zerolinecolor": "white",
           "zerolinewidth": 2
          }
         }
        },
        "title": {
         "text": "Percentage of Transactions per Day of the Week by Laundering Status"
        },
        "xaxis": {
         "title": {
          "text": "Day of the Week (Monday=0, Sunday=6)"
         }
        },
        "yaxis": {
         "title": {
          "text": "Percentage of Transactions within Each Group"
         }
        }
       }
      }
     },
     "metadata": {},
     "output_type": "display_data"
    }
   ],
   "source": [
    "# Calculate the number of transactions per day of the week for each laundering status (0: legitimate, 1: laundering)\n",
    "transactions_by_day = df.groupby(['day_of_week', 'is_laundering']).size().unstack()\n",
    "\n",
    "# Calculate the percentage of transactions per day of the week within each laundering status\n",
    "transactions_by_day_pct = transactions_by_day.div(transactions_by_day.sum(axis=0), axis=1) * 100\n",
    "\n",
    "# Create a Plotly bar chart to visualize the data\n",
    "fig = go.Figure()\n",
    "\n",
    "fig.add_trace(go.Bar(x=transactions_by_day_pct.index, y=transactions_by_day_pct[0], name='Legitimate'))\n",
    "fig.add_trace(go.Bar(x=transactions_by_day_pct.index, y=transactions_by_day_pct[1], name='Laundering'))\n",
    "\n",
    "fig.update_layout(barmode='group', title='Percentage of Transactions per Day of the Week by Laundering Status',\n",
    "                  xaxis_title='Day of the Week (Monday=0, Sunday=6)', yaxis_title='Percentage of Transactions within Each Group')\n",
    "\n",
    "fig.show()"
   ]
  },
  {
   "attachments": {},
   "cell_type": "markdown",
   "metadata": {},
   "source": [
    "##### Chi-Square Test"
   ]
  },
  {
   "cell_type": "code",
   "execution_count": 51,
   "metadata": {},
   "outputs": [
    {
     "name": "stdout",
     "output_type": "stream",
     "text": [
      "Chi-square statistic: 1514.577696046295\n",
      "P-value: 0.0\n"
     ]
    }
   ],
   "source": [
    "# Calculate the number of transactions per day of the week for each laundering status (0: legitimate, 1: laundering)\n",
    "transactions_by_day = df.groupby(['day_of_week', 'is_laundering']).size().unstack().fillna(0)\n",
    "\n",
    "# Perform the Chi-square test for independence\n",
    "chi2, p_value, _, _ = chi2_contingency(transactions_by_day)\n",
    "\n",
    "print(f\"Chi-square statistic: {chi2}\")\n",
    "print(f\"P-value: {p_value}\")"
   ]
  },
  {
   "attachments": {},
   "cell_type": "markdown",
   "metadata": {},
   "source": [
    "### Day of the month Analysis"
   ]
  },
  {
   "cell_type": "code",
   "execution_count": 8,
   "metadata": {},
   "outputs": [
    {
     "data": {
      "application/vnd.plotly.v1+json": {
       "config": {
        "plotlyServerURL": "https://plot.ly"
       },
       "data": [
        {
         "name": "Legitimate",
         "type": "bar",
         "x": [
          1,
          2,
          3,
          4,
          5,
          6,
          7,
          8,
          9,
          10,
          11,
          12,
          13,
          14
         ],
         "y": [
          25.497657718001047,
          17.24950347464804,
          4.735143014399578,
          4.735875049012004,
          11.030366168288353,
          11.01616012159095,
          11.032081874411228,
          11.03162435277846,
          3.6663267280935212,
          0.002882386286429588,
          0.0018529626127047354,
          0.0004346455511282712,
          0.00004575216327666013,
          0.00004575216327666013
         ]
        },
        {
         "name": "Laundering",
         "type": "bar",
         "x": [
          1,
          2,
          3,
          4,
          5,
          6,
          7,
          8,
          9,
          10,
          11,
          12,
          13,
          14
         ],
         "y": [
          7.710727969348659,
          9.770114942528735,
          9.363026819923371,
          9.746168582375478,
          11.278735632183908,
          12.71551724137931,
          11.901340996168583,
          12.907088122605364,
          6.800766283524904,
          3.9272030651340994,
          2.7059386973180075,
          0.9099616858237548,
          0.11973180076628352,
          0.14367816091954022
         ]
        }
       ],
       "layout": {
        "barmode": "group",
        "template": {
         "data": {
          "bar": [
           {
            "error_x": {
             "color": "#2a3f5f"
            },
            "error_y": {
             "color": "#2a3f5f"
            },
            "marker": {
             "line": {
              "color": "#E5ECF6",
              "width": 0.5
             },
             "pattern": {
              "fillmode": "overlay",
              "size": 10,
              "solidity": 0.2
             }
            },
            "type": "bar"
           }
          ],
          "barpolar": [
           {
            "marker": {
             "line": {
              "color": "#E5ECF6",
              "width": 0.5
             },
             "pattern": {
              "fillmode": "overlay",
              "size": 10,
              "solidity": 0.2
             }
            },
            "type": "barpolar"
           }
          ],
          "carpet": [
           {
            "aaxis": {
             "endlinecolor": "#2a3f5f",
             "gridcolor": "white",
             "linecolor": "white",
             "minorgridcolor": "white",
             "startlinecolor": "#2a3f5f"
            },
            "baxis": {
             "endlinecolor": "#2a3f5f",
             "gridcolor": "white",
             "linecolor": "white",
             "minorgridcolor": "white",
             "startlinecolor": "#2a3f5f"
            },
            "type": "carpet"
           }
          ],
          "choropleth": [
           {
            "colorbar": {
             "outlinewidth": 0,
             "ticks": ""
            },
            "type": "choropleth"
           }
          ],
          "contour": [
           {
            "colorbar": {
             "outlinewidth": 0,
             "ticks": ""
            },
            "colorscale": [
             [
              0,
              "#0d0887"
             ],
             [
              0.1111111111111111,
              "#46039f"
             ],
             [
              0.2222222222222222,
              "#7201a8"
             ],
             [
              0.3333333333333333,
              "#9c179e"
             ],
             [
              0.4444444444444444,
              "#bd3786"
             ],
             [
              0.5555555555555556,
              "#d8576b"
             ],
             [
              0.6666666666666666,
              "#ed7953"
             ],
             [
              0.7777777777777778,
              "#fb9f3a"
             ],
             [
              0.8888888888888888,
              "#fdca26"
             ],
             [
              1,
              "#f0f921"
             ]
            ],
            "type": "contour"
           }
          ],
          "contourcarpet": [
           {
            "colorbar": {
             "outlinewidth": 0,
             "ticks": ""
            },
            "type": "contourcarpet"
           }
          ],
          "heatmap": [
           {
            "colorbar": {
             "outlinewidth": 0,
             "ticks": ""
            },
            "colorscale": [
             [
              0,
              "#0d0887"
             ],
             [
              0.1111111111111111,
              "#46039f"
             ],
             [
              0.2222222222222222,
              "#7201a8"
             ],
             [
              0.3333333333333333,
              "#9c179e"
             ],
             [
              0.4444444444444444,
              "#bd3786"
             ],
             [
              0.5555555555555556,
              "#d8576b"
             ],
             [
              0.6666666666666666,
              "#ed7953"
             ],
             [
              0.7777777777777778,
              "#fb9f3a"
             ],
             [
              0.8888888888888888,
              "#fdca26"
             ],
             [
              1,
              "#f0f921"
             ]
            ],
            "type": "heatmap"
           }
          ],
          "heatmapgl": [
           {
            "colorbar": {
             "outlinewidth": 0,
             "ticks": ""
            },
            "colorscale": [
             [
              0,
              "#0d0887"
             ],
             [
              0.1111111111111111,
              "#46039f"
             ],
             [
              0.2222222222222222,
              "#7201a8"
             ],
             [
              0.3333333333333333,
              "#9c179e"
             ],
             [
              0.4444444444444444,
              "#bd3786"
             ],
             [
              0.5555555555555556,
              "#d8576b"
             ],
             [
              0.6666666666666666,
              "#ed7953"
             ],
             [
              0.7777777777777778,
              "#fb9f3a"
             ],
             [
              0.8888888888888888,
              "#fdca26"
             ],
             [
              1,
              "#f0f921"
             ]
            ],
            "type": "heatmapgl"
           }
          ],
          "histogram": [
           {
            "marker": {
             "pattern": {
              "fillmode": "overlay",
              "size": 10,
              "solidity": 0.2
             }
            },
            "type": "histogram"
           }
          ],
          "histogram2d": [
           {
            "colorbar": {
             "outlinewidth": 0,
             "ticks": ""
            },
            "colorscale": [
             [
              0,
              "#0d0887"
             ],
             [
              0.1111111111111111,
              "#46039f"
             ],
             [
              0.2222222222222222,
              "#7201a8"
             ],
             [
              0.3333333333333333,
              "#9c179e"
             ],
             [
              0.4444444444444444,
              "#bd3786"
             ],
             [
              0.5555555555555556,
              "#d8576b"
             ],
             [
              0.6666666666666666,
              "#ed7953"
             ],
             [
              0.7777777777777778,
              "#fb9f3a"
             ],
             [
              0.8888888888888888,
              "#fdca26"
             ],
             [
              1,
              "#f0f921"
             ]
            ],
            "type": "histogram2d"
           }
          ],
          "histogram2dcontour": [
           {
            "colorbar": {
             "outlinewidth": 0,
             "ticks": ""
            },
            "colorscale": [
             [
              0,
              "#0d0887"
             ],
             [
              0.1111111111111111,
              "#46039f"
             ],
             [
              0.2222222222222222,
              "#7201a8"
             ],
             [
              0.3333333333333333,
              "#9c179e"
             ],
             [
              0.4444444444444444,
              "#bd3786"
             ],
             [
              0.5555555555555556,
              "#d8576b"
             ],
             [
              0.6666666666666666,
              "#ed7953"
             ],
             [
              0.7777777777777778,
              "#fb9f3a"
             ],
             [
              0.8888888888888888,
              "#fdca26"
             ],
             [
              1,
              "#f0f921"
             ]
            ],
            "type": "histogram2dcontour"
           }
          ],
          "mesh3d": [
           {
            "colorbar": {
             "outlinewidth": 0,
             "ticks": ""
            },
            "type": "mesh3d"
           }
          ],
          "parcoords": [
           {
            "line": {
             "colorbar": {
              "outlinewidth": 0,
              "ticks": ""
             }
            },
            "type": "parcoords"
           }
          ],
          "pie": [
           {
            "automargin": true,
            "type": "pie"
           }
          ],
          "scatter": [
           {
            "fillpattern": {
             "fillmode": "overlay",
             "size": 10,
             "solidity": 0.2
            },
            "type": "scatter"
           }
          ],
          "scatter3d": [
           {
            "line": {
             "colorbar": {
              "outlinewidth": 0,
              "ticks": ""
             }
            },
            "marker": {
             "colorbar": {
              "outlinewidth": 0,
              "ticks": ""
             }
            },
            "type": "scatter3d"
           }
          ],
          "scattercarpet": [
           {
            "marker": {
             "colorbar": {
              "outlinewidth": 0,
              "ticks": ""
             }
            },
            "type": "scattercarpet"
           }
          ],
          "scattergeo": [
           {
            "marker": {
             "colorbar": {
              "outlinewidth": 0,
              "ticks": ""
             }
            },
            "type": "scattergeo"
           }
          ],
          "scattergl": [
           {
            "marker": {
             "colorbar": {
              "outlinewidth": 0,
              "ticks": ""
             }
            },
            "type": "scattergl"
           }
          ],
          "scattermapbox": [
           {
            "marker": {
             "colorbar": {
              "outlinewidth": 0,
              "ticks": ""
             }
            },
            "type": "scattermapbox"
           }
          ],
          "scatterpolar": [
           {
            "marker": {
             "colorbar": {
              "outlinewidth": 0,
              "ticks": ""
             }
            },
            "type": "scatterpolar"
           }
          ],
          "scatterpolargl": [
           {
            "marker": {
             "colorbar": {
              "outlinewidth": 0,
              "ticks": ""
             }
            },
            "type": "scatterpolargl"
           }
          ],
          "scatterternary": [
           {
            "marker": {
             "colorbar": {
              "outlinewidth": 0,
              "ticks": ""
             }
            },
            "type": "scatterternary"
           }
          ],
          "surface": [
           {
            "colorbar": {
             "outlinewidth": 0,
             "ticks": ""
            },
            "colorscale": [
             [
              0,
              "#0d0887"
             ],
             [
              0.1111111111111111,
              "#46039f"
             ],
             [
              0.2222222222222222,
              "#7201a8"
             ],
             [
              0.3333333333333333,
              "#9c179e"
             ],
             [
              0.4444444444444444,
              "#bd3786"
             ],
             [
              0.5555555555555556,
              "#d8576b"
             ],
             [
              0.6666666666666666,
              "#ed7953"
             ],
             [
              0.7777777777777778,
              "#fb9f3a"
             ],
             [
              0.8888888888888888,
              "#fdca26"
             ],
             [
              1,
              "#f0f921"
             ]
            ],
            "type": "surface"
           }
          ],
          "table": [
           {
            "cells": {
             "fill": {
              "color": "#EBF0F8"
             },
             "line": {
              "color": "white"
             }
            },
            "header": {
             "fill": {
              "color": "#C8D4E3"
             },
             "line": {
              "color": "white"
             }
            },
            "type": "table"
           }
          ]
         },
         "layout": {
          "annotationdefaults": {
           "arrowcolor": "#2a3f5f",
           "arrowhead": 0,
           "arrowwidth": 1
          },
          "autotypenumbers": "strict",
          "coloraxis": {
           "colorbar": {
            "outlinewidth": 0,
            "ticks": ""
           }
          },
          "colorscale": {
           "diverging": [
            [
             0,
             "#8e0152"
            ],
            [
             0.1,
             "#c51b7d"
            ],
            [
             0.2,
             "#de77ae"
            ],
            [
             0.3,
             "#f1b6da"
            ],
            [
             0.4,
             "#fde0ef"
            ],
            [
             0.5,
             "#f7f7f7"
            ],
            [
             0.6,
             "#e6f5d0"
            ],
            [
             0.7,
             "#b8e186"
            ],
            [
             0.8,
             "#7fbc41"
            ],
            [
             0.9,
             "#4d9221"
            ],
            [
             1,
             "#276419"
            ]
           ],
           "sequential": [
            [
             0,
             "#0d0887"
            ],
            [
             0.1111111111111111,
             "#46039f"
            ],
            [
             0.2222222222222222,
             "#7201a8"
            ],
            [
             0.3333333333333333,
             "#9c179e"
            ],
            [
             0.4444444444444444,
             "#bd3786"
            ],
            [
             0.5555555555555556,
             "#d8576b"
            ],
            [
             0.6666666666666666,
             "#ed7953"
            ],
            [
             0.7777777777777778,
             "#fb9f3a"
            ],
            [
             0.8888888888888888,
             "#fdca26"
            ],
            [
             1,
             "#f0f921"
            ]
           ],
           "sequentialminus": [
            [
             0,
             "#0d0887"
            ],
            [
             0.1111111111111111,
             "#46039f"
            ],
            [
             0.2222222222222222,
             "#7201a8"
            ],
            [
             0.3333333333333333,
             "#9c179e"
            ],
            [
             0.4444444444444444,
             "#bd3786"
            ],
            [
             0.5555555555555556,
             "#d8576b"
            ],
            [
             0.6666666666666666,
             "#ed7953"
            ],
            [
             0.7777777777777778,
             "#fb9f3a"
            ],
            [
             0.8888888888888888,
             "#fdca26"
            ],
            [
             1,
             "#f0f921"
            ]
           ]
          },
          "colorway": [
           "#636efa",
           "#EF553B",
           "#00cc96",
           "#ab63fa",
           "#FFA15A",
           "#19d3f3",
           "#FF6692",
           "#B6E880",
           "#FF97FF",
           "#FECB52"
          ],
          "font": {
           "color": "#2a3f5f"
          },
          "geo": {
           "bgcolor": "white",
           "lakecolor": "white",
           "landcolor": "#E5ECF6",
           "showlakes": true,
           "showland": true,
           "subunitcolor": "white"
          },
          "hoverlabel": {
           "align": "left"
          },
          "hovermode": "closest",
          "mapbox": {
           "style": "light"
          },
          "paper_bgcolor": "white",
          "plot_bgcolor": "#E5ECF6",
          "polar": {
           "angularaxis": {
            "gridcolor": "white",
            "linecolor": "white",
            "ticks": ""
           },
           "bgcolor": "#E5ECF6",
           "radialaxis": {
            "gridcolor": "white",
            "linecolor": "white",
            "ticks": ""
           }
          },
          "scene": {
           "xaxis": {
            "backgroundcolor": "#E5ECF6",
            "gridcolor": "white",
            "gridwidth": 2,
            "linecolor": "white",
            "showbackground": true,
            "ticks": "",
            "zerolinecolor": "white"
           },
           "yaxis": {
            "backgroundcolor": "#E5ECF6",
            "gridcolor": "white",
            "gridwidth": 2,
            "linecolor": "white",
            "showbackground": true,
            "ticks": "",
            "zerolinecolor": "white"
           },
           "zaxis": {
            "backgroundcolor": "#E5ECF6",
            "gridcolor": "white",
            "gridwidth": 2,
            "linecolor": "white",
            "showbackground": true,
            "ticks": "",
            "zerolinecolor": "white"
           }
          },
          "shapedefaults": {
           "line": {
            "color": "#2a3f5f"
           }
          },
          "ternary": {
           "aaxis": {
            "gridcolor": "white",
            "linecolor": "white",
            "ticks": ""
           },
           "baxis": {
            "gridcolor": "white",
            "linecolor": "white",
            "ticks": ""
           },
           "bgcolor": "#E5ECF6",
           "caxis": {
            "gridcolor": "white",
            "linecolor": "white",
            "ticks": ""
           }
          },
          "title": {
           "x": 0.05
          },
          "xaxis": {
           "automargin": true,
           "gridcolor": "white",
           "linecolor": "white",
           "ticks": "",
           "title": {
            "standoff": 15
           },
           "zerolinecolor": "white",
           "zerolinewidth": 2
          },
          "yaxis": {
           "automargin": true,
           "gridcolor": "white",
           "linecolor": "white",
           "ticks": "",
           "title": {
            "standoff": 15
           },
           "zerolinecolor": "white",
           "zerolinewidth": 2
          }
         }
        },
        "title": {
         "text": "Percentage of Transactions per Day of the Month by Laundering Status"
        },
        "xaxis": {
         "title": {
          "text": "Day of the Month"
         }
        },
        "yaxis": {
         "title": {
          "text": "Percentage of Transactions within Each Group"
         }
        }
       }
      }
     },
     "metadata": {},
     "output_type": "display_data"
    }
   ],
   "source": [
    "# Calculate the number of transactions per day of the month for each laundering status (0: legitimate, 1: laundering)\n",
    "transactions_by_day = df.groupby(['day_of_month', 'is_laundering']).size().unstack()\n",
    "\n",
    "# Calculate the percentage of transactions per day of the month within each laundering status\n",
    "transactions_by_day_pct = transactions_by_day.div(transactions_by_day.sum(axis=0), axis=1) * 100\n",
    "\n",
    "# Create a Plotly bar chart to visualize the data\n",
    "fig = go.Figure()\n",
    "\n",
    "fig.add_trace(go.Bar(x=transactions_by_day_pct.index, y=transactions_by_day_pct[0], name='Legitimate'))\n",
    "fig.add_trace(go.Bar(x=transactions_by_day_pct.index, y=transactions_by_day_pct[1], name='Laundering'))\n",
    "\n",
    "fig.update_layout(barmode='group', title='Percentage of Transactions per Day of the Month by Laundering Status',\n",
    "                  xaxis_title='Day of the Month', yaxis_title='Percentage of Transactions within Each Group')\n",
    "\n",
    "fig.show()\n"
   ]
  },
  {
   "attachments": {},
   "cell_type": "markdown",
   "metadata": {},
   "source": [
    "#### Chi-square Test"
   ]
  },
  {
   "cell_type": "code",
   "execution_count": 9,
   "metadata": {},
   "outputs": [
    {
     "name": "stdout",
     "output_type": "stream",
     "text": [
      "Chi-square statistic: 201884.5056557713\n",
      "P-value: 0.0\n"
     ]
    }
   ],
   "source": [
    "# Calculate the number of transactions per day of the week for each laundering status (0: legitimate, 1: laundering)\n",
    "transactions_by_day = df.groupby(['day_of_month', 'is_laundering']).size().unstack().fillna(0)\n",
    "\n",
    "# Perform the Chi-square test for independence\n",
    "chi2, p_value, _, _ = chi2_contingency(transactions_by_day)\n",
    "\n",
    "print(f\"Chi-square statistic: {chi2}\")\n",
    "print(f\"P-value: {p_value}\")"
   ]
  },
  {
   "attachments": {},
   "cell_type": "markdown",
   "metadata": {},
   "source": [
    "### Feature Engineering"
   ]
  },
  {
   "attachments": {},
   "cell_type": "markdown",
   "metadata": {},
   "source": [
    "#### Difference between the percentages for day_of_week, day_of_month, hour\n",
    "Here, it's added 3 extra columns to the dataset, which are the difference between the percentage of transactions that are laundering and the percentage of transactions that are not laundering for each day of the week, day of the month, and hour of the day. This information can be used to create new features for your classification model, such as a binary feature indicating whether a transaction occurred during hours with a higher likelihood of laundering."
   ]
  },
  {
   "cell_type": "code",
   "execution_count": 21,
   "metadata": {},
   "outputs": [],
   "source": [
    "def calculate_difference(df, time_unit):\n",
    "    # Calculate the number of transactions per time unit for each laundering status (0: legitimate, 1: laundering)\n",
    "    transactions_by_time_unit = df.groupby([time_unit, 'is_laundering']).size().unstack()\n",
    "\n",
    "    # Calculate the percentage of transactions per time unit within each laundering status\n",
    "    transactions_by_time_unit_pct = transactions_by_time_unit.div(transactions_by_time_unit.sum(axis=0), axis=1) * 100\n",
    "\n",
    "    # Calculate the difference between the percentages of laundering and legitimate transactions\n",
    "    transactions_by_time_unit_pct['difference_' + time_unit] = transactions_by_time_unit_pct[1] - transactions_by_time_unit_pct[0]\n",
    "\n",
    "    # Reset the index of the DataFrame so that time_unit is a column instead of an index\n",
    "    transactions_by_time_unit_pct.reset_index(inplace=True)\n",
    "\n",
    "    # Merge the original DataFrame with the new DataFrame on the time_unit column\n",
    "    df = df.merge(transactions_by_time_unit_pct[[time_unit, 'difference_' + time_unit]], on=time_unit)\n",
    "    \n",
    "    return df\n",
    "\n",
    "# Apply the function to 'hour', 'day_of_week' and 'day_of_month'\n",
    "df = calculate_difference(df, 'hour')\n",
    "df = calculate_difference(df, 'day_of_week')\n",
    "df = calculate_difference(df, 'day_of_month')\n"
   ]
  },
  {
   "cell_type": "code",
   "execution_count": 22,
   "metadata": {},
   "outputs": [
    {
     "data": {
      "text/html": [
       "<div>\n",
       "<style scoped>\n",
       "    .dataframe tbody tr th:only-of-type {\n",
       "        vertical-align: middle;\n",
       "    }\n",
       "\n",
       "    .dataframe tbody tr th {\n",
       "        vertical-align: top;\n",
       "    }\n",
       "\n",
       "    .dataframe thead th {\n",
       "        text-align: right;\n",
       "    }\n",
       "</style>\n",
       "<table border=\"1\" class=\"dataframe\">\n",
       "  <thead>\n",
       "    <tr style=\"text-align: right;\">\n",
       "      <th></th>\n",
       "      <th>timestamp</th>\n",
       "      <th>from_bank</th>\n",
       "      <th>from_account</th>\n",
       "      <th>to_bank</th>\n",
       "      <th>to_account</th>\n",
       "      <th>amount_received</th>\n",
       "      <th>receiving_currency</th>\n",
       "      <th>amount_paid</th>\n",
       "      <th>payment_currency</th>\n",
       "      <th>payment_format</th>\n",
       "      <th>is_laundering</th>\n",
       "      <th>hour</th>\n",
       "      <th>day_of_week</th>\n",
       "      <th>month</th>\n",
       "      <th>day_of_month</th>\n",
       "      <th>difference_hour</th>\n",
       "      <th>difference_day_of_week</th>\n",
       "      <th>difference_day_of_month</th>\n",
       "    </tr>\n",
       "  </thead>\n",
       "  <tbody>\n",
       "    <tr>\n",
       "      <th>3410088</th>\n",
       "      <td>2022-09-05 00:58:00</td>\n",
       "      <td>2843</td>\n",
       "      <td>800A4B110</td>\n",
       "      <td>513</td>\n",
       "      <td>8005A1B80</td>\n",
       "      <td>17777.45</td>\n",
       "      <td>US Dollar</td>\n",
       "      <td>17777.45</td>\n",
       "      <td>US Dollar</td>\n",
       "      <td>ACH</td>\n",
       "      <td>1</td>\n",
       "      <td>0</td>\n",
       "      <td>0</td>\n",
       "      <td>9</td>\n",
       "      <td>5</td>\n",
       "      <td>-10.168012</td>\n",
       "      <td>1.157897</td>\n",
       "      <td>0.248369</td>\n",
       "    </tr>\n",
       "    <tr>\n",
       "      <th>3410089</th>\n",
       "      <td>2022-09-05 00:29:00</td>\n",
       "      <td>1522</td>\n",
       "      <td>80055F090</td>\n",
       "      <td>1522</td>\n",
       "      <td>80055F090</td>\n",
       "      <td>19533.96</td>\n",
       "      <td>US Dollar</td>\n",
       "      <td>16670.28</td>\n",
       "      <td>Euro</td>\n",
       "      <td>ACH</td>\n",
       "      <td>0</td>\n",
       "      <td>0</td>\n",
       "      <td>0</td>\n",
       "      <td>9</td>\n",
       "      <td>5</td>\n",
       "      <td>-10.168012</td>\n",
       "      <td>1.157897</td>\n",
       "      <td>0.248369</td>\n",
       "    </tr>\n",
       "    <tr>\n",
       "      <th>3410090</th>\n",
       "      <td>2022-09-05 00:29:00</td>\n",
       "      <td>1522</td>\n",
       "      <td>80055F090</td>\n",
       "      <td>1665</td>\n",
       "      <td>80054CAB0</td>\n",
       "      <td>19533.96</td>\n",
       "      <td>US Dollar</td>\n",
       "      <td>19533.96</td>\n",
       "      <td>US Dollar</td>\n",
       "      <td>ACH</td>\n",
       "      <td>1</td>\n",
       "      <td>0</td>\n",
       "      <td>0</td>\n",
       "      <td>9</td>\n",
       "      <td>5</td>\n",
       "      <td>-10.168012</td>\n",
       "      <td>1.157897</td>\n",
       "      <td>0.248369</td>\n",
       "    </tr>\n",
       "    <tr>\n",
       "      <th>3410091</th>\n",
       "      <td>2022-09-05 00:27:00</td>\n",
       "      <td>18196</td>\n",
       "      <td>8035CD610</td>\n",
       "      <td>18196</td>\n",
       "      <td>8035CD610</td>\n",
       "      <td>779777.58</td>\n",
       "      <td>Rupee</td>\n",
       "      <td>71110.48</td>\n",
       "      <td>Yuan</td>\n",
       "      <td>ACH</td>\n",
       "      <td>0</td>\n",
       "      <td>0</td>\n",
       "      <td>0</td>\n",
       "      <td>9</td>\n",
       "      <td>5</td>\n",
       "      <td>-10.168012</td>\n",
       "      <td>1.157897</td>\n",
       "      <td>0.248369</td>\n",
       "    </tr>\n",
       "    <tr>\n",
       "      <th>3410092</th>\n",
       "      <td>2022-09-05 00:27:00</td>\n",
       "      <td>18196</td>\n",
       "      <td>8035CD610</td>\n",
       "      <td>16</td>\n",
       "      <td>8050B7870</td>\n",
       "      <td>779777.58</td>\n",
       "      <td>Rupee</td>\n",
       "      <td>779777.58</td>\n",
       "      <td>Rupee</td>\n",
       "      <td>ACH</td>\n",
       "      <td>1</td>\n",
       "      <td>0</td>\n",
       "      <td>0</td>\n",
       "      <td>9</td>\n",
       "      <td>5</td>\n",
       "      <td>-10.168012</td>\n",
       "      <td>1.157897</td>\n",
       "      <td>0.248369</td>\n",
       "    </tr>\n",
       "    <tr>\n",
       "      <th>...</th>\n",
       "      <td>...</td>\n",
       "      <td>...</td>\n",
       "      <td>...</td>\n",
       "      <td>...</td>\n",
       "      <td>...</td>\n",
       "      <td>...</td>\n",
       "      <td>...</td>\n",
       "      <td>...</td>\n",
       "      <td>...</td>\n",
       "      <td>...</td>\n",
       "      <td>...</td>\n",
       "      <td>...</td>\n",
       "      <td>...</td>\n",
       "      <td>...</td>\n",
       "      <td>...</td>\n",
       "      <td>...</td>\n",
       "      <td>...</td>\n",
       "      <td>...</td>\n",
       "    </tr>\n",
       "    <tr>\n",
       "      <th>3892790</th>\n",
       "      <td>2022-09-12 12:28:00</td>\n",
       "      <td>14804</td>\n",
       "      <td>806698470</td>\n",
       "      <td>14804</td>\n",
       "      <td>806698470</td>\n",
       "      <td>68984.01</td>\n",
       "      <td>Yuan</td>\n",
       "      <td>10299.81</td>\n",
       "      <td>US Dollar</td>\n",
       "      <td>ACH</td>\n",
       "      <td>0</td>\n",
       "      <td>12</td>\n",
       "      <td>0</td>\n",
       "      <td>9</td>\n",
       "      <td>12</td>\n",
       "      <td>2.875409</td>\n",
       "      <td>1.157897</td>\n",
       "      <td>0.909527</td>\n",
       "    </tr>\n",
       "    <tr>\n",
       "      <th>3892791</th>\n",
       "      <td>2022-09-12 12:28:00</td>\n",
       "      <td>14804</td>\n",
       "      <td>806698470</td>\n",
       "      <td>18107</td>\n",
       "      <td>807E2E610</td>\n",
       "      <td>68984.01</td>\n",
       "      <td>Yuan</td>\n",
       "      <td>68984.01</td>\n",
       "      <td>Yuan</td>\n",
       "      <td>ACH</td>\n",
       "      <td>1</td>\n",
       "      <td>12</td>\n",
       "      <td>0</td>\n",
       "      <td>9</td>\n",
       "      <td>12</td>\n",
       "      <td>2.875409</td>\n",
       "      <td>1.157897</td>\n",
       "      <td>0.909527</td>\n",
       "    </tr>\n",
       "    <tr>\n",
       "      <th>3892792</th>\n",
       "      <td>2022-09-12 12:05:00</td>\n",
       "      <td>20</td>\n",
       "      <td>800195070</td>\n",
       "      <td>23</td>\n",
       "      <td>8001B8810</td>\n",
       "      <td>13829.37</td>\n",
       "      <td>Euro</td>\n",
       "      <td>13829.37</td>\n",
       "      <td>Euro</td>\n",
       "      <td>ACH</td>\n",
       "      <td>1</td>\n",
       "      <td>12</td>\n",
       "      <td>0</td>\n",
       "      <td>9</td>\n",
       "      <td>12</td>\n",
       "      <td>2.875409</td>\n",
       "      <td>1.157897</td>\n",
       "      <td>0.909527</td>\n",
       "    </tr>\n",
       "    <tr>\n",
       "      <th>3892793</th>\n",
       "      <td>2022-09-12 12:28:00</td>\n",
       "      <td>24</td>\n",
       "      <td>803D94320</td>\n",
       "      <td>24</td>\n",
       "      <td>803D94320</td>\n",
       "      <td>13561.88</td>\n",
       "      <td>US Dollar</td>\n",
       "      <td>1429422.01</td>\n",
       "      <td>Yen</td>\n",
       "      <td>ACH</td>\n",
       "      <td>0</td>\n",
       "      <td>12</td>\n",
       "      <td>0</td>\n",
       "      <td>9</td>\n",
       "      <td>12</td>\n",
       "      <td>2.875409</td>\n",
       "      <td>1.157897</td>\n",
       "      <td>0.909527</td>\n",
       "    </tr>\n",
       "    <tr>\n",
       "      <th>3892794</th>\n",
       "      <td>2022-09-12 12:28:00</td>\n",
       "      <td>24</td>\n",
       "      <td>803D94320</td>\n",
       "      <td>1601</td>\n",
       "      <td>80340DCF0</td>\n",
       "      <td>13561.88</td>\n",
       "      <td>US Dollar</td>\n",
       "      <td>13561.88</td>\n",
       "      <td>US Dollar</td>\n",
       "      <td>ACH</td>\n",
       "      <td>1</td>\n",
       "      <td>12</td>\n",
       "      <td>0</td>\n",
       "      <td>9</td>\n",
       "      <td>12</td>\n",
       "      <td>2.875409</td>\n",
       "      <td>1.157897</td>\n",
       "      <td>0.909527</td>\n",
       "    </tr>\n",
       "  </tbody>\n",
       "</table>\n",
       "<p>482707 rows × 18 columns</p>\n",
       "</div>"
      ],
      "text/plain": [
       "                  timestamp  from_bank from_account  to_bank to_account  \\\n",
       "3410088 2022-09-05 00:58:00       2843    800A4B110      513  8005A1B80   \n",
       "3410089 2022-09-05 00:29:00       1522    80055F090     1522  80055F090   \n",
       "3410090 2022-09-05 00:29:00       1522    80055F090     1665  80054CAB0   \n",
       "3410091 2022-09-05 00:27:00      18196    8035CD610    18196  8035CD610   \n",
       "3410092 2022-09-05 00:27:00      18196    8035CD610       16  8050B7870   \n",
       "...                     ...        ...          ...      ...        ...   \n",
       "3892790 2022-09-12 12:28:00      14804    806698470    14804  806698470   \n",
       "3892791 2022-09-12 12:28:00      14804    806698470    18107  807E2E610   \n",
       "3892792 2022-09-12 12:05:00         20    800195070       23  8001B8810   \n",
       "3892793 2022-09-12 12:28:00         24    803D94320       24  803D94320   \n",
       "3892794 2022-09-12 12:28:00         24    803D94320     1601  80340DCF0   \n",
       "\n",
       "         amount_received receiving_currency  amount_paid payment_currency  \\\n",
       "3410088         17777.45          US Dollar     17777.45        US Dollar   \n",
       "3410089         19533.96          US Dollar     16670.28             Euro   \n",
       "3410090         19533.96          US Dollar     19533.96        US Dollar   \n",
       "3410091        779777.58              Rupee     71110.48             Yuan   \n",
       "3410092        779777.58              Rupee    779777.58            Rupee   \n",
       "...                  ...                ...          ...              ...   \n",
       "3892790         68984.01               Yuan     10299.81        US Dollar   \n",
       "3892791         68984.01               Yuan     68984.01             Yuan   \n",
       "3892792         13829.37               Euro     13829.37             Euro   \n",
       "3892793         13561.88          US Dollar   1429422.01              Yen   \n",
       "3892794         13561.88          US Dollar     13561.88        US Dollar   \n",
       "\n",
       "        payment_format  is_laundering  hour  day_of_week  month  day_of_month  \\\n",
       "3410088            ACH              1     0            0      9             5   \n",
       "3410089            ACH              0     0            0      9             5   \n",
       "3410090            ACH              1     0            0      9             5   \n",
       "3410091            ACH              0     0            0      9             5   \n",
       "3410092            ACH              1     0            0      9             5   \n",
       "...                ...            ...   ...          ...    ...           ...   \n",
       "3892790            ACH              0    12            0      9            12   \n",
       "3892791            ACH              1    12            0      9            12   \n",
       "3892792            ACH              1    12            0      9            12   \n",
       "3892793            ACH              0    12            0      9            12   \n",
       "3892794            ACH              1    12            0      9            12   \n",
       "\n",
       "         difference_hour  difference_day_of_week  difference_day_of_month  \n",
       "3410088       -10.168012                1.157897                 0.248369  \n",
       "3410089       -10.168012                1.157897                 0.248369  \n",
       "3410090       -10.168012                1.157897                 0.248369  \n",
       "3410091       -10.168012                1.157897                 0.248369  \n",
       "3410092       -10.168012                1.157897                 0.248369  \n",
       "...                  ...                     ...                      ...  \n",
       "3892790         2.875409                1.157897                 0.909527  \n",
       "3892791         2.875409                1.157897                 0.909527  \n",
       "3892792         2.875409                1.157897                 0.909527  \n",
       "3892793         2.875409                1.157897                 0.909527  \n",
       "3892794         2.875409                1.157897                 0.909527  \n",
       "\n",
       "[482707 rows x 18 columns]"
      ]
     },
     "execution_count": 22,
     "metadata": {},
     "output_type": "execute_result"
    }
   ],
   "source": [
    "# select the rows which day_of_week is 0 (Monday)\n",
    "df[df['day_of_week'] == 0]"
   ]
  },
  {
   "cell_type": "code",
   "execution_count": 23,
   "metadata": {},
   "outputs": [],
   "source": [
    "# save df as csv\n",
    "df.to_csv('data/HI-Small_Trans_adjusted.csv', index=False)\n",
    "\n",
    "df = pd.read_csv('data/HI-Small_Trans_adjusted.csv')"
   ]
  },
  {
   "attachments": {},
   "cell_type": "markdown",
   "metadata": {},
   "source": [
    "## Money Laudering Patterns Data Set"
   ]
  },
  {
   "attachments": {},
   "cell_type": "markdown",
   "metadata": {},
   "source": [
    "### Pre Processing"
   ]
  },
  {
   "cell_type": "code",
   "execution_count": 17,
   "metadata": {},
   "outputs": [],
   "source": [
    "# read the file\n",
    "with open(\"data/HI-Small_Patterns.txt\", \"r\") as f:\n",
    "    lines = f.readlines()\n",
    "\n",
    "patterns_data = []\n",
    "current_laundering_id = 0\n",
    "current_pattern_name = \"\"\n",
    "\n",
    "# loop over the lines\n",
    "for line in lines:\n",
    "    line = line.strip()\n",
    "    if not line:\n",
    "        continue\n",
    "    if line.startswith(\"BEGIN LAUNDERING ATTEMPT\"):\n",
    "        current_laundering_id += 1\n",
    "        laundering_type = line.split(\" - \")[1]\n",
    "        current_pattern_name = laundering_type.split(\":\")[0].strip()\n",
    "    elif line.startswith(\"END LAUNDERING ATTEMPT\"):\n",
    "        continue\n",
    "    else:\n",
    "        cols = line.split(\",\")\n",
    "        cols = [col.strip() for col in cols]\n",
    "        cols.append(laundering_type)\n",
    "        cols.append(current_laundering_id)\n",
    "        cols.append(current_pattern_name)\n",
    "        patterns_data.append(cols)\n",
    "\n",
    "# convert to dataframe\n",
    "patterns = pd.DataFrame(patterns_data, columns=['timestamp', 'from_bank', 'from_account', 'to_bank', 'to_account', 'amount_received',\n",
    "                                 'receiving_currency', 'amount_paid', 'payment_currency', 'payment_format', 'is_laundering', 'laundering_type', 'pattern_id', 'pattern_name'])\n",
    "\n",
    "# convert columns to appropriate data types\n",
    "patterns['amount_received'] = patterns['amount_received'].astype(float)\n",
    "patterns['amount_paid'] = patterns['amount_paid'].astype(float)"
   ]
  },
  {
   "cell_type": "code",
   "execution_count": 18,
   "metadata": {},
   "outputs": [],
   "source": [
    "#patterns.to_csv(\"data/patterns_dataframe.csv\", index=False)"
   ]
  },
  {
   "cell_type": "code",
   "execution_count": 19,
   "metadata": {},
   "outputs": [],
   "source": [
    "patterns = pd.read_csv(\"data/patterns_dataframe.csv\")"
   ]
  },
  {
   "cell_type": "code",
   "execution_count": 20,
   "metadata": {},
   "outputs": [
    {
     "data": {
      "text/html": [
       "<div>\n",
       "<style scoped>\n",
       "    .dataframe tbody tr th:only-of-type {\n",
       "        vertical-align: middle;\n",
       "    }\n",
       "\n",
       "    .dataframe tbody tr th {\n",
       "        vertical-align: top;\n",
       "    }\n",
       "\n",
       "    .dataframe thead th {\n",
       "        text-align: right;\n",
       "    }\n",
       "</style>\n",
       "<table border=\"1\" class=\"dataframe\">\n",
       "  <thead>\n",
       "    <tr style=\"text-align: right;\">\n",
       "      <th></th>\n",
       "      <th>timestamp</th>\n",
       "      <th>from_bank</th>\n",
       "      <th>from_account</th>\n",
       "      <th>to_bank</th>\n",
       "      <th>to_account</th>\n",
       "      <th>amount_received</th>\n",
       "      <th>receiving_currency</th>\n",
       "      <th>amount_paid</th>\n",
       "      <th>payment_currency</th>\n",
       "      <th>payment_format</th>\n",
       "      <th>is_laundering</th>\n",
       "      <th>laundering_type</th>\n",
       "      <th>pattern_id</th>\n",
       "      <th>pattern_name</th>\n",
       "    </tr>\n",
       "  </thead>\n",
       "  <tbody>\n",
       "    <tr>\n",
       "      <th>20</th>\n",
       "      <td>2022/09/03 10:20</td>\n",
       "      <td>24856</td>\n",
       "      <td>8090E8EB0</td>\n",
       "      <td>71</td>\n",
       "      <td>804ABCE90</td>\n",
       "      <td>637140.60</td>\n",
       "      <td>Rupee</td>\n",
       "      <td>637140.60</td>\n",
       "      <td>Rupee</td>\n",
       "      <td>ACH</td>\n",
       "      <td>1</td>\n",
       "      <td>CYCLE:  Max 10 hops</td>\n",
       "      <td>2</td>\n",
       "      <td>CYCLE</td>\n",
       "    </tr>\n",
       "    <tr>\n",
       "      <th>21</th>\n",
       "      <td>2022/09/03 12:08</td>\n",
       "      <td>71</td>\n",
       "      <td>804ABCE90</td>\n",
       "      <td>213737</td>\n",
       "      <td>805494C30</td>\n",
       "      <td>621578.18</td>\n",
       "      <td>Rupee</td>\n",
       "      <td>621578.18</td>\n",
       "      <td>Rupee</td>\n",
       "      <td>ACH</td>\n",
       "      <td>1</td>\n",
       "      <td>CYCLE:  Max 10 hops</td>\n",
       "      <td>2</td>\n",
       "      <td>CYCLE</td>\n",
       "    </tr>\n",
       "    <tr>\n",
       "      <th>22</th>\n",
       "      <td>2022/09/03 13:24</td>\n",
       "      <td>213737</td>\n",
       "      <td>805494C30</td>\n",
       "      <td>14290</td>\n",
       "      <td>801B949C0</td>\n",
       "      <td>7222.58</td>\n",
       "      <td>Euro</td>\n",
       "      <td>7222.58</td>\n",
       "      <td>Euro</td>\n",
       "      <td>ACH</td>\n",
       "      <td>1</td>\n",
       "      <td>CYCLE:  Max 10 hops</td>\n",
       "      <td>2</td>\n",
       "      <td>CYCLE</td>\n",
       "    </tr>\n",
       "    <tr>\n",
       "      <th>23</th>\n",
       "      <td>2022/09/04 03:24</td>\n",
       "      <td>14290</td>\n",
       "      <td>801B949C0</td>\n",
       "      <td>10057</td>\n",
       "      <td>803DE1580</td>\n",
       "      <td>892031.21</td>\n",
       "      <td>Yen</td>\n",
       "      <td>892031.21</td>\n",
       "      <td>Yen</td>\n",
       "      <td>ACH</td>\n",
       "      <td>1</td>\n",
       "      <td>CYCLE:  Max 10 hops</td>\n",
       "      <td>2</td>\n",
       "      <td>CYCLE</td>\n",
       "    </tr>\n",
       "    <tr>\n",
       "      <th>24</th>\n",
       "      <td>2022/09/04 09:44</td>\n",
       "      <td>10057</td>\n",
       "      <td>803DE1580</td>\n",
       "      <td>28628</td>\n",
       "      <td>80ACEE280</td>\n",
       "      <td>11364.12</td>\n",
       "      <td>Australian Dollar</td>\n",
       "      <td>11364.12</td>\n",
       "      <td>Australian Dollar</td>\n",
       "      <td>ACH</td>\n",
       "      <td>1</td>\n",
       "      <td>CYCLE:  Max 10 hops</td>\n",
       "      <td>2</td>\n",
       "      <td>CYCLE</td>\n",
       "    </tr>\n",
       "    <tr>\n",
       "      <th>25</th>\n",
       "      <td>2022/09/04 15:51</td>\n",
       "      <td>28628</td>\n",
       "      <td>80ACEE280</td>\n",
       "      <td>1467</td>\n",
       "      <td>8013C4030</td>\n",
       "      <td>7945.55</td>\n",
       "      <td>US Dollar</td>\n",
       "      <td>7945.55</td>\n",
       "      <td>US Dollar</td>\n",
       "      <td>ACH</td>\n",
       "      <td>1</td>\n",
       "      <td>CYCLE:  Max 10 hops</td>\n",
       "      <td>2</td>\n",
       "      <td>CYCLE</td>\n",
       "    </tr>\n",
       "    <tr>\n",
       "      <th>26</th>\n",
       "      <td>2022/09/01 00:04</td>\n",
       "      <td>119</td>\n",
       "      <td>811C597B0</td>\n",
       "      <td>48309</td>\n",
       "      <td>811C599A0</td>\n",
       "      <td>34254.65</td>\n",
       "      <td>Saudi Riyal</td>\n",
       "      <td>34254.65</td>\n",
       "      <td>Saudi Riyal</td>\n",
       "      <td>ACH</td>\n",
       "      <td>1</td>\n",
       "      <td>GATHER-SCATTER:  Max 3-degree Fan-In</td>\n",
       "      <td>3</td>\n",
       "      <td>GATHER-SCATTER</td>\n",
       "    </tr>\n",
       "    <tr>\n",
       "      <th>27</th>\n",
       "      <td>2022/09/01 19:27</td>\n",
       "      <td>150240</td>\n",
       "      <td>812D22980</td>\n",
       "      <td>48309</td>\n",
       "      <td>811C599A0</td>\n",
       "      <td>5971.98</td>\n",
       "      <td>Saudi Riyal</td>\n",
       "      <td>5971.98</td>\n",
       "      <td>Saudi Riyal</td>\n",
       "      <td>ACH</td>\n",
       "      <td>1</td>\n",
       "      <td>GATHER-SCATTER:  Max 3-degree Fan-In</td>\n",
       "      <td>3</td>\n",
       "      <td>GATHER-SCATTER</td>\n",
       "    </tr>\n",
       "    <tr>\n",
       "      <th>28</th>\n",
       "      <td>2022/09/04 05:06</td>\n",
       "      <td>222</td>\n",
       "      <td>811B83280</td>\n",
       "      <td>48309</td>\n",
       "      <td>811C599A0</td>\n",
       "      <td>50445.58</td>\n",
       "      <td>Saudi Riyal</td>\n",
       "      <td>50445.58</td>\n",
       "      <td>Saudi Riyal</td>\n",
       "      <td>ACH</td>\n",
       "      <td>1</td>\n",
       "      <td>GATHER-SCATTER:  Max 3-degree Fan-In</td>\n",
       "      <td>3</td>\n",
       "      <td>GATHER-SCATTER</td>\n",
       "    </tr>\n",
       "    <tr>\n",
       "      <th>29</th>\n",
       "      <td>2022/09/04 05:03</td>\n",
       "      <td>48309</td>\n",
       "      <td>811C599A0</td>\n",
       "      <td>48309</td>\n",
       "      <td>811C599A0</td>\n",
       "      <td>48649.42</td>\n",
       "      <td>Saudi Riyal</td>\n",
       "      <td>48649.42</td>\n",
       "      <td>Saudi Riyal</td>\n",
       "      <td>ACH</td>\n",
       "      <td>1</td>\n",
       "      <td>GATHER-SCATTER:  Max 3-degree Fan-In</td>\n",
       "      <td>3</td>\n",
       "      <td>GATHER-SCATTER</td>\n",
       "    </tr>\n",
       "  </tbody>\n",
       "</table>\n",
       "</div>"
      ],
      "text/plain": [
       "           timestamp  from_bank from_account  to_bank to_account  \\\n",
       "20  2022/09/03 10:20      24856    8090E8EB0       71  804ABCE90   \n",
       "21  2022/09/03 12:08         71    804ABCE90   213737  805494C30   \n",
       "22  2022/09/03 13:24     213737    805494C30    14290  801B949C0   \n",
       "23  2022/09/04 03:24      14290    801B949C0    10057  803DE1580   \n",
       "24  2022/09/04 09:44      10057    803DE1580    28628  80ACEE280   \n",
       "25  2022/09/04 15:51      28628    80ACEE280     1467  8013C4030   \n",
       "26  2022/09/01 00:04        119    811C597B0    48309  811C599A0   \n",
       "27  2022/09/01 19:27     150240    812D22980    48309  811C599A0   \n",
       "28  2022/09/04 05:06        222    811B83280    48309  811C599A0   \n",
       "29  2022/09/04 05:03      48309    811C599A0    48309  811C599A0   \n",
       "\n",
       "    amount_received receiving_currency  amount_paid   payment_currency  \\\n",
       "20        637140.60              Rupee    637140.60              Rupee   \n",
       "21        621578.18              Rupee    621578.18              Rupee   \n",
       "22          7222.58               Euro      7222.58               Euro   \n",
       "23        892031.21                Yen    892031.21                Yen   \n",
       "24         11364.12  Australian Dollar     11364.12  Australian Dollar   \n",
       "25          7945.55          US Dollar      7945.55          US Dollar   \n",
       "26         34254.65        Saudi Riyal     34254.65        Saudi Riyal   \n",
       "27          5971.98        Saudi Riyal      5971.98        Saudi Riyal   \n",
       "28         50445.58        Saudi Riyal     50445.58        Saudi Riyal   \n",
       "29         48649.42        Saudi Riyal     48649.42        Saudi Riyal   \n",
       "\n",
       "   payment_format  is_laundering                       laundering_type  \\\n",
       "20            ACH              1                   CYCLE:  Max 10 hops   \n",
       "21            ACH              1                   CYCLE:  Max 10 hops   \n",
       "22            ACH              1                   CYCLE:  Max 10 hops   \n",
       "23            ACH              1                   CYCLE:  Max 10 hops   \n",
       "24            ACH              1                   CYCLE:  Max 10 hops   \n",
       "25            ACH              1                   CYCLE:  Max 10 hops   \n",
       "26            ACH              1  GATHER-SCATTER:  Max 3-degree Fan-In   \n",
       "27            ACH              1  GATHER-SCATTER:  Max 3-degree Fan-In   \n",
       "28            ACH              1  GATHER-SCATTER:  Max 3-degree Fan-In   \n",
       "29            ACH              1  GATHER-SCATTER:  Max 3-degree Fan-In   \n",
       "\n",
       "    pattern_id    pattern_name  \n",
       "20           2           CYCLE  \n",
       "21           2           CYCLE  \n",
       "22           2           CYCLE  \n",
       "23           2           CYCLE  \n",
       "24           2           CYCLE  \n",
       "25           2           CYCLE  \n",
       "26           3  GATHER-SCATTER  \n",
       "27           3  GATHER-SCATTER  \n",
       "28           3  GATHER-SCATTER  \n",
       "29           3  GATHER-SCATTER  "
      ]
     },
     "execution_count": 20,
     "metadata": {},
     "output_type": "execute_result"
    }
   ],
   "source": [
    "# display the first few rows of the DataFrame\n",
    "patterns[20:30]"
   ]
  },
  {
   "cell_type": "code",
   "execution_count": 21,
   "metadata": {},
   "outputs": [
    {
     "data": {
      "text/plain": [
       "Index(['timestamp', 'from_bank', 'from_account', 'to_bank', 'to_account',\n",
       "       'amount_received', 'receiving_currency', 'amount_paid',\n",
       "       'payment_currency', 'payment_format', 'is_laundering',\n",
       "       'laundering_type', 'pattern_id', 'pattern_name'],\n",
       "      dtype='object')"
      ]
     },
     "execution_count": 21,
     "metadata": {},
     "output_type": "execute_result"
    }
   ],
   "source": [
    "patterns.columns"
   ]
  },
  {
   "cell_type": "code",
   "execution_count": 26,
   "metadata": {},
   "outputs": [
    {
     "data": {
      "text/plain": [
       "timestamp              object\n",
       "from_bank               int64\n",
       "from_account           object\n",
       "to_bank                 int64\n",
       "to_account             object\n",
       "amount_received       float64\n",
       "receiving_currency     object\n",
       "amount_paid           float64\n",
       "payment_currency       object\n",
       "payment_format         object\n",
       "is_laundering           int64\n",
       "laundering_type        object\n",
       "pattern_id              int64\n",
       "pattern_name           object\n",
       "dtype: object"
      ]
     },
     "execution_count": 26,
     "metadata": {},
     "output_type": "execute_result"
    }
   ],
   "source": [
    "patterns.dtypes"
   ]
  },
  {
   "attachments": {},
   "cell_type": "markdown",
   "metadata": {},
   "source": [
    "### Payment Format Deep Dive"
   ]
  },
  {
   "cell_type": "code",
   "execution_count": 22,
   "metadata": {},
   "outputs": [
    {
     "name": "stdout",
     "output_type": "stream",
     "text": [
      "         payment_format  percentage_of_transaction\n",
      "ACH                3208                  99.968838\n",
      "Bitcoin               1                   0.031162\n"
     ]
    }
   ],
   "source": [
    "# Get the count and percentage of each payment format\n",
    "counts = patterns['payment_format'].value_counts().to_frame()\n",
    "counts['percentage_of_transaction'] = counts['payment_format'] / len(patterns) * 100\n",
    "print(counts)"
   ]
  },
  {
   "attachments": {},
   "cell_type": "markdown",
   "metadata": {},
   "source": [
    "### Pattern Analysis"
   ]
  },
  {
   "cell_type": "code",
   "execution_count": 23,
   "metadata": {},
   "outputs": [
    {
     "name": "stdout",
     "output_type": "stream",
     "text": [
      "Number of unique patterns: 8\n"
     ]
    }
   ],
   "source": [
    "# count the number of unique patterns\n",
    "pattern_count = patterns['pattern_name'].nunique()\n",
    "print(\"Number of unique patterns:\", pattern_count)"
   ]
  },
  {
   "cell_type": "code",
   "execution_count": 24,
   "metadata": {},
   "outputs": [
    {
     "name": "stdout",
     "output_type": "stream",
     "text": [
      "pattern_name\n",
      "CYCLE             54\n",
      "GATHER-SCATTER    51\n",
      "BIPARTITE         49\n",
      "FAN-OUT           48\n",
      "SCATTER-GATHER    44\n",
      "STACK             43\n",
      "RANDOM            41\n",
      "FAN-IN            40\n",
      "Name: pattern_id, dtype: int64\n"
     ]
    }
   ],
   "source": [
    "# count the number of unique patterns_id for each pattern_name and sort the values in descending order\n",
    "pattern_id_count = patterns.groupby('pattern_name')['pattern_id'].nunique().sort_values(ascending=False)\n",
    "print(pattern_id_count)"
   ]
  },
  {
   "cell_type": "code",
   "execution_count": 25,
   "metadata": {},
   "outputs": [
    {
     "name": "stdout",
     "output_type": "stream",
     "text": [
      "pattern_name\n",
      "STACK             446\n",
      "GATHER-SCATTER    380\n",
      "SCATTER-GATHER    339\n",
      "FAN-IN            307\n",
      "CYCLE             271\n",
      "BIPARTITE         250\n",
      "RANDOM            181\n",
      "FAN-OUT            43\n",
      "Name: from_account, dtype: int64\n"
     ]
    }
   ],
   "source": [
    "# count the number of unique from_account for each pattern_name and sort the values in descending order\n",
    "from_account_count = patterns.groupby('pattern_name')['from_account'].nunique().sort_values(ascending=False) \n",
    "print(from_account_count)"
   ]
  },
  {
   "cell_type": "code",
   "execution_count": null,
   "metadata": {},
   "outputs": [],
   "source": []
  }
 ],
 "metadata": {
  "kernelspec": {
   "display_name": "base",
   "language": "python",
   "name": "python3"
  },
  "language_info": {
   "codemirror_mode": {
    "name": "ipython",
    "version": 3
   },
   "file_extension": ".py",
   "mimetype": "text/x-python",
   "name": "python",
   "nbconvert_exporter": "python",
   "pygments_lexer": "ipython3",
   "version": "3.9.13"
  },
  "orig_nbformat": 4
 },
 "nbformat": 4,
 "nbformat_minor": 2
}
